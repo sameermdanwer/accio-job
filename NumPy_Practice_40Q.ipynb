{
  "cells": [
    {
      "cell_type": "markdown",
      "metadata": {
        "id": "view-in-github",
        "colab_type": "text"
      },
      "source": [
        "<a href=\"https://colab.research.google.com/github/sameermdanwer/accio-job/blob/main/NumPy_Practice_40Q.ipynb\" target=\"_parent\"><img src=\"https://colab.research.google.com/assets/colab-badge.svg\" alt=\"Open In Colab\"/></a>"
      ]
    },
    {
      "cell_type": "markdown",
      "id": "e0c490a6",
      "metadata": {
        "id": "e0c490a6"
      },
      "source": [
        "# NumPy Practice Questions\n",
        "\n",
        "**Instructions:** Dear Students Each question is self‑explanatory. Read the markdown prompt and write the code in the cell below it where marked `# answer here`. Keep solutions simple and focused on the asked concept.\n",
        "\n",
        "- Q1–Q30: Single-topic questions in sequence (basics → indexing → operations → aggregations → reshaping/broadcasting → utilities).\n",
        "\n",
        "- Q31–Q35: Multi‑concept (combine 2–3 ideas you practiced).\n",
        "\n",
        "- Q36–Q40: Use a single dataset loaded via **pandas** and perform **NumPy** operations on it. The file `students_scores.csv` is already available in the same folder as this notebook.\n"
      ]
    },
    {
      "cell_type": "markdown",
      "id": "c491a91a",
      "metadata": {
        "id": "c491a91a"
      },
      "source": [
        "### Q1. Create a 1D NumPy array from the Python list `[1, 2, 3, 4, 5]` and print its type and contents."
      ]
    },
    {
      "cell_type": "code",
      "execution_count": 2,
      "id": "11798359",
      "metadata": {
        "id": "11798359",
        "outputId": "ee0b0c2b-6202-48da-f888-207af3465b14",
        "colab": {
          "base_uri": "https://localhost:8080/"
        }
      },
      "outputs": [
        {
          "output_type": "stream",
          "name": "stdout",
          "text": [
            "<class 'numpy.ndarray'>\n",
            "[1 2 3 4 5]\n"
          ]
        }
      ],
      "source": [
        "# answer here\n",
        "import numpy as np\n",
        "arr = np.array([1,2,3,4,5])\n",
        "print(type(arr))\n",
        "print(arr)"
      ]
    },
    {
      "cell_type": "markdown",
      "id": "c14573d0",
      "metadata": {
        "id": "c14573d0"
      },
      "source": [
        "### Q2. Create a 2D NumPy array from `[[1, 2, 3], [4, 5, 6]]` and print its `shape` and `ndim`."
      ]
    },
    {
      "cell_type": "code",
      "execution_count": 3,
      "id": "d8632ac0",
      "metadata": {
        "id": "d8632ac0",
        "outputId": "694eda60-adef-4e08-c831-76291c040211",
        "colab": {
          "base_uri": "https://localhost:8080/"
        }
      },
      "outputs": [
        {
          "output_type": "stream",
          "name": "stdout",
          "text": [
            "(2, 3)\n",
            "2\n"
          ]
        }
      ],
      "source": [
        "# answer here\n",
        "arr = np.array([[1,2,3],[4,5,6]])\n",
        "print(arr.shape)\n",
        "print(arr.ndim)"
      ]
    },
    {
      "cell_type": "markdown",
      "id": "41a541aa",
      "metadata": {
        "id": "41a541aa"
      },
      "source": [
        "### Q3. Create an array of 6 zeros and print it."
      ]
    },
    {
      "cell_type": "code",
      "execution_count": 4,
      "id": "d9ed7f27",
      "metadata": {
        "id": "d9ed7f27",
        "outputId": "79a1c526-6035-44ea-9f09-416ba44235ba",
        "colab": {
          "base_uri": "https://localhost:8080/"
        }
      },
      "outputs": [
        {
          "output_type": "stream",
          "name": "stdout",
          "text": [
            "[0. 0. 0. 0. 0. 0.]\n"
          ]
        }
      ],
      "source": [
        "# answer here\n",
        "arr = np.zeros(6)\n",
        "print(arr)"
      ]
    },
    {
      "cell_type": "markdown",
      "id": "320659f5",
      "metadata": {
        "id": "320659f5"
      },
      "source": [
        "### Q4. Create an array of 5 ones (float) and print it."
      ]
    },
    {
      "cell_type": "code",
      "execution_count": 5,
      "id": "06f42856",
      "metadata": {
        "id": "06f42856",
        "outputId": "7a27bdb7-9a60-4d9e-b511-4a80866561df",
        "colab": {
          "base_uri": "https://localhost:8080/"
        }
      },
      "outputs": [
        {
          "output_type": "stream",
          "name": "stdout",
          "text": [
            "[1. 1. 1. 1. 1.]\n"
          ]
        }
      ],
      "source": [
        "# answer here\n",
        "arr = np.ones(5,dtype=float)\n",
        "print(arr)"
      ]
    },
    {
      "cell_type": "markdown",
      "id": "f94a555e",
      "metadata": {
        "id": "f94a555e"
      },
      "source": [
        "### Q5. Use `np.arange` to create an array from 2 to 14 (inclusive of 2, exclusive of 14) with a step of 2 and print it."
      ]
    },
    {
      "cell_type": "code",
      "execution_count": 6,
      "id": "a593196e",
      "metadata": {
        "id": "a593196e",
        "outputId": "7ae4dfd1-1e89-4765-8dcf-6d5ebdbe0c3c",
        "colab": {
          "base_uri": "https://localhost:8080/"
        }
      },
      "outputs": [
        {
          "output_type": "stream",
          "name": "stdout",
          "text": [
            "[ 2  4  6  8 10 12]\n"
          ]
        }
      ],
      "source": [
        "# answer here\n",
        "arr = np.arange(2,14,2)\n",
        "print(arr)"
      ]
    },
    {
      "cell_type": "markdown",
      "id": "0f258cce",
      "metadata": {
        "id": "0f258cce"
      },
      "source": [
        "### Q6. Use `np.linspace` to create 5 evenly spaced values from 0 to 1 and print them."
      ]
    },
    {
      "cell_type": "code",
      "execution_count": 7,
      "id": "2f2a4b42",
      "metadata": {
        "id": "2f2a4b42",
        "outputId": "53e272fc-94b3-4b59-f1fa-4321a42ac12a",
        "colab": {
          "base_uri": "https://localhost:8080/"
        }
      },
      "outputs": [
        {
          "output_type": "stream",
          "name": "stdout",
          "text": [
            "[0.   0.25 0.5  0.75 1.  ]\n"
          ]
        }
      ],
      "source": [
        "# answer here\n",
        "arr = np.linspace(0,1,5)\n",
        "print(arr)"
      ]
    },
    {
      "cell_type": "markdown",
      "id": "e7e03828",
      "metadata": {
        "id": "e7e03828"
      },
      "source": [
        "### Q7. Create an integer array `[10, 20, 30]` then convert it to `float` dtype and print both arrays."
      ]
    },
    {
      "cell_type": "code",
      "execution_count": 12,
      "id": "8c01f250",
      "metadata": {
        "id": "8c01f250",
        "outputId": "f31fc4ce-9f7d-4d9b-b9df-02122fec5bb1",
        "colab": {
          "base_uri": "https://localhost:8080/"
        }
      },
      "outputs": [
        {
          "output_type": "stream",
          "name": "stdout",
          "text": [
            "[10 20 30]\n",
            "int64\n"
          ]
        }
      ],
      "source": [
        "# answer here\n",
        "arr = np.array([10,20,30])\n",
        "print(arr)\n",
        "arr1 = arr.astype(float)\n",
        "print(arr.dtype)\n",
        "\n"
      ]
    },
    {
      "cell_type": "markdown",
      "id": "fae8af1e",
      "metadata": {
        "id": "fae8af1e"
      },
      "source": [
        "### Q8. Create an array of 12 numbers from 0 to 11 and reshape it to `3x4`; print the reshaped array."
      ]
    },
    {
      "cell_type": "code",
      "execution_count": 13,
      "id": "376b9fe9",
      "metadata": {
        "id": "376b9fe9",
        "outputId": "6e41a7ab-8b60-4fd1-94eb-90c83f3b0ab1",
        "colab": {
          "base_uri": "https://localhost:8080/"
        }
      },
      "outputs": [
        {
          "output_type": "stream",
          "name": "stdout",
          "text": [
            "[[ 0  1  2  3]\n",
            " [ 4  5  6  7]\n",
            " [ 8  9 10 11]]\n"
          ]
        }
      ],
      "source": [
        "# answer here\n",
        "arr = np.arange(12).reshape(3,4)\n",
        "print(arr)"
      ]
    },
    {
      "cell_type": "markdown",
      "id": "f244c522",
      "metadata": {
        "id": "f244c522"
      },
      "source": [
        "### Q9. For the array `a = np.array([[1,2,3],[4,5,6]])`, print `a.shape`, `a.ndim`, and `a.size`."
      ]
    },
    {
      "cell_type": "code",
      "execution_count": 14,
      "id": "d7ce800a",
      "metadata": {
        "id": "d7ce800a",
        "outputId": "bd3b32e7-22bc-48cc-c897-f7640edabefd",
        "colab": {
          "base_uri": "https://localhost:8080/"
        }
      },
      "outputs": [
        {
          "output_type": "stream",
          "name": "stdout",
          "text": [
            "(2, 3)\n",
            "2\n",
            "6\n"
          ]
        }
      ],
      "source": [
        "# answer here\n",
        "a = np.array([[1,2,3],[4,5,6]])\n",
        "print(a.shape)\n",
        "print(a.ndim)\n",
        "print(a.size)"
      ]
    },
    {
      "cell_type": "markdown",
      "id": "83ba66c2",
      "metadata": {
        "id": "83ba66c2"
      },
      "source": [
        "### Q10. For the array `a = np.array([1,2,3], dtype=np.int32)`, print `a.dtype` and `a.itemsize`."
      ]
    },
    {
      "cell_type": "code",
      "execution_count": 15,
      "id": "c85a1d4c",
      "metadata": {
        "id": "c85a1d4c",
        "outputId": "02cd0a58-a353-441a-bdfd-c7556ab3cad0",
        "colab": {
          "base_uri": "https://localhost:8080/"
        }
      },
      "outputs": [
        {
          "output_type": "stream",
          "name": "stdout",
          "text": [
            "int32\n",
            "4\n"
          ]
        }
      ],
      "source": [
        "# answer here\n",
        "a = np.array([1,2,3], dtype=np.int32)\n",
        "print(a.dtype)\n",
        "print(a.itemsize)"
      ]
    },
    {
      "cell_type": "markdown",
      "id": "01aa0bea",
      "metadata": {
        "id": "01aa0bea"
      },
      "source": [
        "### Q11. Given `arr = np.array([10, 20, 30, 40, 50])`, print the first element, last element, and the element at index 2."
      ]
    },
    {
      "cell_type": "code",
      "execution_count": 16,
      "id": "1d0d13f5",
      "metadata": {
        "id": "1d0d13f5",
        "outputId": "0abbfd6a-42e9-4b43-8e7b-3bfbff013562",
        "colab": {
          "base_uri": "https://localhost:8080/"
        }
      },
      "outputs": [
        {
          "output_type": "stream",
          "name": "stdout",
          "text": [
            "10\n",
            "50\n",
            "30\n"
          ]
        }
      ],
      "source": [
        "# answer here\n",
        "arr = np.array([10,20,30,40,50])\n",
        "print(arr[0])\n",
        "print(arr[-1])\n",
        "print(arr[2])"
      ]
    },
    {
      "cell_type": "markdown",
      "id": "d6fc26ea",
      "metadata": {
        "id": "d6fc26ea"
      },
      "source": [
        "### Q12. Given `arr = np.array([5, 10, 15, 20, 25])`, use negative indexing to print the last two elements."
      ]
    },
    {
      "cell_type": "code",
      "execution_count": 18,
      "id": "8f719239",
      "metadata": {
        "id": "8f719239",
        "outputId": "d4e41c5b-89d6-46a0-b8eb-a8a0040eb835",
        "colab": {
          "base_uri": "https://localhost:8080/"
        }
      },
      "outputs": [
        {
          "output_type": "stream",
          "name": "stdout",
          "text": [
            "[20 25]\n"
          ]
        }
      ],
      "source": [
        "# answer here\n",
        "arr = np.array([5,10,15,20,25])\n",
        "print(arr[-2:])\n"
      ]
    },
    {
      "cell_type": "markdown",
      "id": "7f6e0d20",
      "metadata": {
        "id": "7f6e0d20"
      },
      "source": [
        "### Q13. Given `arr = np.array([0,1,2,3,4,5,6,7,8,9])`, print the slice from index 2 to 7 (exclusive)."
      ]
    },
    {
      "cell_type": "code",
      "execution_count": 19,
      "id": "1f7780b7",
      "metadata": {
        "id": "1f7780b7",
        "outputId": "8af67377-628c-43bf-848c-5fbd44e2634f",
        "colab": {
          "base_uri": "https://localhost:8080/"
        }
      },
      "outputs": [
        {
          "output_type": "stream",
          "name": "stdout",
          "text": [
            "[2 3 4 5 6]\n"
          ]
        }
      ],
      "source": [
        "# answer here\n",
        "arr = np.array([0,1,2,3,4,5,6,7,8,9])\n",
        "print(arr[2:7])"
      ]
    },
    {
      "cell_type": "markdown",
      "id": "842faad2",
      "metadata": {
        "id": "842faad2"
      },
      "source": [
        "### Q14. Given `m = np.arange(1,13).reshape(3,4)`, print the second row and the third column (as 1D slices)."
      ]
    },
    {
      "cell_type": "code",
      "execution_count": 20,
      "id": "f00c9967",
      "metadata": {
        "id": "f00c9967",
        "outputId": "10f04d05-1f8f-44f9-dabc-f8c63541aa8c",
        "colab": {
          "base_uri": "https://localhost:8080/"
        }
      },
      "outputs": [
        {
          "output_type": "stream",
          "name": "stdout",
          "text": [
            "[5 6 7 8]\n",
            "[ 3  7 11]\n"
          ]
        }
      ],
      "source": [
        "# answer here\n",
        "m = np.arange(1,13).reshape(3,4)\n",
        "print(m[1,:])\n",
        "print(m[:,2])"
      ]
    },
    {
      "cell_type": "markdown",
      "id": "8178992e",
      "metadata": {
        "id": "8178992e"
      },
      "source": [
        "### Q15. Given `m = np.arange(1,13).reshape(3,4)`, print the submatrix containing rows 0 to 1 and columns 1 to 3."
      ]
    },
    {
      "cell_type": "code",
      "execution_count": 21,
      "id": "2153637b",
      "metadata": {
        "id": "2153637b",
        "outputId": "3580b520-13dc-492d-bef7-eb149eb0d019",
        "colab": {
          "base_uri": "https://localhost:8080/"
        }
      },
      "outputs": [
        {
          "output_type": "stream",
          "name": "stdout",
          "text": [
            "[[2 3]\n",
            " [6 7]]\n"
          ]
        }
      ],
      "source": [
        "# answer here\n",
        "m = np.arange(1,13).reshape(3,4)\n",
        "print(m[:2,1:3])"
      ]
    },
    {
      "cell_type": "markdown",
      "id": "4e9c429c",
      "metadata": {
        "id": "4e9c429c"
      },
      "source": [
        "### Q16. Given `arr = np.arange(1,11)`, create a boolean mask for even numbers and print the even elements."
      ]
    },
    {
      "cell_type": "code",
      "execution_count": 22,
      "id": "2231b742",
      "metadata": {
        "id": "2231b742",
        "outputId": "799b8c6e-fdb5-4694-b973-660aba5a1607",
        "colab": {
          "base_uri": "https://localhost:8080/"
        }
      },
      "outputs": [
        {
          "output_type": "stream",
          "name": "stdout",
          "text": [
            "[ 2  4  6  8 10]\n"
          ]
        }
      ],
      "source": [
        "# answer here\n",
        "arr = np.arange(1,11)\n",
        "mask = arr%2==0\n",
        "print(arr[mask])"
      ]
    },
    {
      "cell_type": "markdown",
      "id": "3002e5e5",
      "metadata": {
        "id": "3002e5e5"
      },
      "source": [
        "### Q17. Given `arr = np.arange(1,11)`, set all odd elements to `-1` (modify in place) and print the result."
      ]
    },
    {
      "cell_type": "code",
      "execution_count": 23,
      "id": "721b3e57",
      "metadata": {
        "id": "721b3e57",
        "outputId": "9b2e4b93-b122-4d30-832c-b3d6a66441c5",
        "colab": {
          "base_uri": "https://localhost:8080/"
        }
      },
      "outputs": [
        {
          "output_type": "stream",
          "name": "stdout",
          "text": [
            "[-1  2 -1  4 -1  6 -1  8 -1 10]\n"
          ]
        }
      ],
      "source": [
        "# answer here\n",
        "arr = np.arange(1,11)\n",
        "arr[arr%2!=0]=-1\n",
        "print(arr)"
      ]
    },
    {
      "cell_type": "markdown",
      "id": "716f20ec",
      "metadata": {
        "id": "716f20ec"
      },
      "source": [
        "### Q18. Given `arr = np.array([1,2,3])`, add `5` to every element and print the result (element‑wise)."
      ]
    },
    {
      "cell_type": "code",
      "execution_count": 24,
      "id": "aa334afb",
      "metadata": {
        "id": "aa334afb",
        "outputId": "919fa335-2521-47c6-e74f-06b9aff24d64",
        "colab": {
          "base_uri": "https://localhost:8080/"
        }
      },
      "outputs": [
        {
          "output_type": "stream",
          "name": "stdout",
          "text": [
            "[6 7 8]\n"
          ]
        }
      ],
      "source": [
        "# answer here\n",
        "arr = np.array([1,2,3])\n",
        "print(arr+5)"
      ]
    },
    {
      "cell_type": "markdown",
      "id": "853ec1d9",
      "metadata": {
        "id": "853ec1d9"
      },
      "source": [
        "### Q19. Given `a = np.array([1,2,3])` and `b = np.array([4,5,6])`, print `a + b` and `a * b` (element‑wise)."
      ]
    },
    {
      "cell_type": "code",
      "execution_count": 25,
      "id": "ad32b2d3",
      "metadata": {
        "id": "ad32b2d3",
        "outputId": "6c39cfdf-ec90-40fe-8409-0ef0226c5286",
        "colab": {
          "base_uri": "https://localhost:8080/"
        }
      },
      "outputs": [
        {
          "output_type": "stream",
          "name": "stdout",
          "text": [
            "[5 7 9]\n",
            "[ 4 10 18]\n"
          ]
        }
      ],
      "source": [
        "# answer here\n",
        "a = np.array([1,2,3])\n",
        "b = np.array([4,5,6])\n",
        "print(a+b)\n",
        "print(a*b)"
      ]
    },
    {
      "cell_type": "markdown",
      "id": "23006681",
      "metadata": {
        "id": "23006681"
      },
      "source": [
        "### Q20. Given `a = np.array([1,2,3])` and `b = np.array([[10],[20],[30]])`, use broadcasting to compute `a + b` and print it."
      ]
    },
    {
      "cell_type": "code",
      "execution_count": 26,
      "id": "9110485b",
      "metadata": {
        "id": "9110485b",
        "outputId": "26bec058-6447-4940-d97b-7f2749962f12",
        "colab": {
          "base_uri": "https://localhost:8080/"
        }
      },
      "outputs": [
        {
          "output_type": "stream",
          "name": "stdout",
          "text": [
            "[[11 12 13]\n",
            " [21 22 23]\n",
            " [31 32 33]]\n"
          ]
        }
      ],
      "source": [
        "# answer here\n",
        "a = np.array([1,2,3])\n",
        "b = np.array([[10],[20],[30]])\n",
        "print(a+b)"
      ]
    },
    {
      "cell_type": "markdown",
      "id": "1a19a3fe",
      "metadata": {
        "id": "1a19a3fe"
      },
      "source": [
        "### Q21. Given `arr = np.array([3, 7, 2, 9, 5])`, print its `sum`, `mean`, `min`, and `max`."
      ]
    },
    {
      "cell_type": "code",
      "execution_count": 27,
      "id": "9959cad3",
      "metadata": {
        "id": "9959cad3",
        "outputId": "8693ff1f-61c5-4456-d227-c10ea86c2bb0",
        "colab": {
          "base_uri": "https://localhost:8080/"
        }
      },
      "outputs": [
        {
          "output_type": "stream",
          "name": "stdout",
          "text": [
            "26\n",
            "5.2\n",
            "2\n",
            "9\n"
          ]
        }
      ],
      "source": [
        "# answer here\n",
        "arr = np.array([3,7,2,9,5])\n",
        "print(arr.sum())\n",
        "print(arr.mean())\n",
        "print(arr.min())\n",
        "print(arr.max())"
      ]
    },
    {
      "cell_type": "markdown",
      "id": "99bd7b97",
      "metadata": {
        "id": "99bd7b97"
      },
      "source": [
        "### Q22. Given `m = np.arange(1,13).reshape(3,4)`, print the sum along axis 0 and along axis 1."
      ]
    },
    {
      "cell_type": "code",
      "execution_count": 28,
      "id": "445e24c1",
      "metadata": {
        "id": "445e24c1",
        "outputId": "322c0c64-cb02-4f5f-81f1-53d88459f245",
        "colab": {
          "base_uri": "https://localhost:8080/"
        }
      },
      "outputs": [
        {
          "output_type": "stream",
          "name": "stdout",
          "text": [
            "[15 18 21 24]\n",
            "[10 26 42]\n"
          ]
        }
      ],
      "source": [
        "# answer here\n",
        "m = np.arange(1,13).reshape(3,4)\n",
        "print(m.sum(axis=0))\n",
        "print(m.sum(axis=1))"
      ]
    },
    {
      "cell_type": "markdown",
      "id": "4d17e8e4",
      "metadata": {
        "id": "4d17e8e4"
      },
      "source": [
        "### Q23. Given `arr = np.array([10, 20, 5, 40, 25])`, print the indices of the `max` and `min` elements using `np.argmax` and `np.argmin`."
      ]
    },
    {
      "cell_type": "code",
      "execution_count": 29,
      "id": "6b21165b",
      "metadata": {
        "id": "6b21165b",
        "outputId": "0a0abc3f-6d71-44cc-a003-8601aecf1de7",
        "colab": {
          "base_uri": "https://localhost:8080/"
        }
      },
      "outputs": [
        {
          "output_type": "stream",
          "name": "stdout",
          "text": [
            "3\n",
            "2\n"
          ]
        }
      ],
      "source": [
        "# answer here\n",
        "arr = np.array([10,20,5,40,25])\n",
        "print(np.argmax(arr))\n",
        "print(np.argmin(arr))"
      ]
    },
    {
      "cell_type": "markdown",
      "id": "29775921",
      "metadata": {
        "id": "29775921"
      },
      "source": [
        "### Q24. Given `arr = np.array([3, 3, 1, 2, 2, 2, 5])`, print the sorted array and the unique values using `np.unique`."
      ]
    },
    {
      "cell_type": "code",
      "execution_count": 30,
      "id": "2edcba37",
      "metadata": {
        "id": "2edcba37",
        "outputId": "28d0c283-18fc-4606-d071-e1e89ffcbda2",
        "colab": {
          "base_uri": "https://localhost:8080/"
        }
      },
      "outputs": [
        {
          "output_type": "stream",
          "name": "stdout",
          "text": [
            "[1 2 2 2 3 3 5]\n",
            "[1 2 3 5]\n"
          ]
        }
      ],
      "source": [
        "# answer here\n",
        "arr = np.array([3,3,1,2,2,2,5])\n",
        "print(np.sort(arr))\n",
        "print(np.unique(arr))"
      ]
    },
    {
      "cell_type": "markdown",
      "id": "5c67ab94",
      "metadata": {
        "id": "5c67ab94"
      },
      "source": [
        "### Q25. Given `arr = np.array([9, 1, 5, 3, 7])`, sort it in ascending order and print the result (do not modify original)."
      ]
    },
    {
      "cell_type": "code",
      "execution_count": 31,
      "id": "18cc696e",
      "metadata": {
        "id": "18cc696e",
        "outputId": "f9d9c1f6-7275-48c7-abab-b1ad01252b05",
        "colab": {
          "base_uri": "https://localhost:8080/"
        }
      },
      "outputs": [
        {
          "output_type": "stream",
          "name": "stdout",
          "text": [
            "[1 3 5 7 9]\n"
          ]
        }
      ],
      "source": [
        "# answer here\n",
        "arr = np.array([9,1,5,3,7])\n",
        "print(np.sort(arr))"
      ]
    },
    {
      "cell_type": "markdown",
      "id": "6212bb71",
      "metadata": {
        "id": "6212bb71"
      },
      "source": [
        "### Q26. Given `a = np.array([1,2,3])` and `b = np.array([4,5,6])`, horizontally concatenate them and print the result."
      ]
    },
    {
      "cell_type": "code",
      "execution_count": 32,
      "id": "e0aa0047",
      "metadata": {
        "id": "e0aa0047",
        "outputId": "2306ab00-3857-4197-a494-0fae05588107",
        "colab": {
          "base_uri": "https://localhost:8080/"
        }
      },
      "outputs": [
        {
          "output_type": "stream",
          "name": "stdout",
          "text": [
            "[1 2 3 4 5 6]\n"
          ]
        }
      ],
      "source": [
        "# answer here\n",
        "a = np.array([1,2,3])\n",
        "b = np.array([4,5,6])\n",
        "print(np.hstack((a,b)))"
      ]
    },
    {
      "cell_type": "markdown",
      "id": "b6402fff",
      "metadata": {
        "id": "b6402fff"
      },
      "source": [
        "### Q27. Given `A = np.array([[1,2],[3,4]])` and `B = np.array([[5,6],[7,8]])`, stack them vertically and print the result."
      ]
    },
    {
      "cell_type": "code",
      "execution_count": 33,
      "id": "7c3a4371",
      "metadata": {
        "id": "7c3a4371",
        "outputId": "09e9176b-32c6-4328-8d44-f573335ed808",
        "colab": {
          "base_uri": "https://localhost:8080/"
        }
      },
      "outputs": [
        {
          "output_type": "stream",
          "name": "stdout",
          "text": [
            "[[1 2]\n",
            " [3 4]\n",
            " [5 6]\n",
            " [7 8]]\n"
          ]
        }
      ],
      "source": [
        "# answer here\n",
        "A = np.array([[1,2],[3,4]])\n",
        "B = np.array([[5,6],[7,8]])\n",
        "print(np.vstack((A,B)))"
      ]
    },
    {
      "cell_type": "markdown",
      "id": "02e5de10",
      "metadata": {
        "id": "02e5de10"
      },
      "source": [
        "### Q28. Given `arr = np.arange(1,13)`, split it into 3 equal parts and print each part."
      ]
    },
    {
      "cell_type": "code",
      "execution_count": 34,
      "id": "d12a4038",
      "metadata": {
        "id": "d12a4038",
        "outputId": "40b31697-9401-41f0-f540-ce4a34f83f74",
        "colab": {
          "base_uri": "https://localhost:8080/"
        }
      },
      "outputs": [
        {
          "output_type": "stream",
          "name": "stdout",
          "text": [
            "[array([1, 2, 3, 4]), array([5, 6, 7, 8]), array([ 9, 10, 11, 12])]\n"
          ]
        }
      ],
      "source": [
        "# answer here\n",
        "arr = np.arange(1,13)\n",
        "print(np.split(arr,3))"
      ]
    },
    {
      "cell_type": "markdown",
      "id": "615e41c2",
      "metadata": {
        "id": "615e41c2"
      },
      "source": [
        "### Q29. Set a random seed (e.g., 42), generate 5 random integers from 0 to 9 using `np.random.randint`, and print them."
      ]
    },
    {
      "cell_type": "code",
      "execution_count": 35,
      "id": "b67e0170",
      "metadata": {
        "id": "b67e0170",
        "outputId": "255a6944-8d88-4fcb-bcd8-771ef57c86dc",
        "colab": {
          "base_uri": "https://localhost:8080/"
        }
      },
      "outputs": [
        {
          "output_type": "stream",
          "name": "stdout",
          "text": [
            "[6 3 7 4 6]\n"
          ]
        }
      ],
      "source": [
        "# answer here\n",
        "np.random.seed(42)\n",
        "print(np.random.randint(0,9,5))"
      ]
    },
    {
      "cell_type": "markdown",
      "id": "011c3a33",
      "metadata": {
        "id": "011c3a33"
      },
      "source": [
        "### Q30. Given `arr = np.array([-3, 1, -1, 4, -2, 5])`, use `np.where` to replace negative values with `0` and print the new array."
      ]
    },
    {
      "cell_type": "code",
      "execution_count": 36,
      "id": "1e253753",
      "metadata": {
        "id": "1e253753",
        "outputId": "030bd1d9-d5de-47b4-f00b-c1ffc24d6645",
        "colab": {
          "base_uri": "https://localhost:8080/"
        }
      },
      "outputs": [
        {
          "output_type": "stream",
          "name": "stdout",
          "text": [
            "[0 1 0 4 0 5]\n"
          ]
        }
      ],
      "source": [
        "# answer here\n",
        "arr = np.array([-3,1,-1,4,-2,5])\n",
        "print(np.where(arr<0,0,arr))"
      ]
    },
    {
      "cell_type": "markdown",
      "id": "a5364cd2",
      "metadata": {
        "id": "a5364cd2"
      },
      "source": [
        "### Q31. Create a 3D array of shape `(2, 3, 4)` using `np.arange` then compute the mean along axis 2 and print the result."
      ]
    },
    {
      "cell_type": "code",
      "execution_count": 37,
      "id": "42052fbd",
      "metadata": {
        "id": "42052fbd",
        "outputId": "7d0f5dc5-f5e2-42b1-fa57-8742ba86f616",
        "colab": {
          "base_uri": "https://localhost:8080/"
        }
      },
      "outputs": [
        {
          "output_type": "stream",
          "name": "stdout",
          "text": [
            "[[ 1.5  5.5  9.5]\n",
            " [13.5 17.5 21.5]]\n"
          ]
        }
      ],
      "source": [
        "# answer here\n",
        "arr = np.arange(24).reshape(2,3,4)\n",
        "print(np.mean(arr,axis=2))"
      ]
    },
    {
      "cell_type": "markdown",
      "id": "90a7b7cc",
      "metadata": {
        "id": "90a7b7cc"
      },
      "source": [
        "### Q32. Create an array from `[5, 10, 15, 20, 25]`, slice out `[10, 15, 20]`, then normalize that slice to range 0–1 using min‑max formula and print it."
      ]
    },
    {
      "cell_type": "code",
      "execution_count": 39,
      "id": "87a4a04b",
      "metadata": {
        "id": "87a4a04b",
        "outputId": "696c1249-c927-4f3b-e5ad-522392887326",
        "colab": {
          "base_uri": "https://localhost:8080/"
        }
      },
      "outputs": [
        {
          "output_type": "stream",
          "name": "stdout",
          "text": [
            "[10 15 20]\n"
          ]
        }
      ],
      "source": [
        "# answer here\n",
        "arr = np.array([5,10,15,20,25])\n",
        "print(arr[1:4])\n"
      ]
    },
    {
      "cell_type": "markdown",
      "id": "6167e37c",
      "metadata": {
        "id": "6167e37c"
      },
      "source": [
        "### Q33. Create two 1D arrays `a=[1,2,3]` and `b=[4,5,6]`; compute the dot product and also form a `3x2` matrix from `a` and `b` and print both results."
      ]
    },
    {
      "cell_type": "code",
      "execution_count": 40,
      "id": "d1ac86f0",
      "metadata": {
        "id": "d1ac86f0",
        "outputId": "8127661e-b563-4010-b800-5eeeec743a81",
        "colab": {
          "base_uri": "https://localhost:8080/"
        }
      },
      "outputs": [
        {
          "output_type": "stream",
          "name": "stdout",
          "text": [
            "32\n",
            "[[ 4  5  6]\n",
            " [ 8 10 12]\n",
            " [12 15 18]]\n"
          ]
        }
      ],
      "source": [
        "# answer here\n",
        "a = np.array([1,2,3])\n",
        "b = np.array([4,5,6])\n",
        "print(np.dot(a,b))\n",
        "print(np.outer(a,b))"
      ]
    },
    {
      "cell_type": "markdown",
      "id": "768cc1ec",
      "metadata": {
        "id": "768cc1ec"
      },
      "source": [
        "### Q34. Create an array of 12 values (1–12), reshape it to `3x4`, then count how many values are greater than `6` and print the count."
      ]
    },
    {
      "cell_type": "code",
      "execution_count": 41,
      "id": "74d303a2",
      "metadata": {
        "id": "74d303a2",
        "outputId": "9021fad6-0b0d-4f74-ff62-8bae764bd8f8",
        "colab": {
          "base_uri": "https://localhost:8080/"
        }
      },
      "outputs": [
        {
          "output_type": "stream",
          "name": "stdout",
          "text": [
            "6\n"
          ]
        }
      ],
      "source": [
        "# answer here\n",
        "arr = np.arange(1,13).reshape(3,4)\n",
        "print(np.count_nonzero(arr>6))"
      ]
    },
    {
      "cell_type": "markdown",
      "id": "9dc33ec2",
      "metadata": {
        "id": "9dc33ec2"
      },
      "source": [
        "### Q35. Create an array from 0–9; replace all odd numbers with `-1` *except* keep the first and last elements unchanged; print the final array."
      ]
    },
    {
      "cell_type": "code",
      "execution_count": 42,
      "id": "7e270c74",
      "metadata": {
        "id": "7e270c74",
        "outputId": "b688e974-e101-4678-e175-999f3a156f74",
        "colab": {
          "base_uri": "https://localhost:8080/"
        }
      },
      "outputs": [
        {
          "output_type": "stream",
          "name": "stdout",
          "text": [
            "[ 0 -1  2 -1  4 -1  6 -1  8  9]\n"
          ]
        }
      ],
      "source": [
        "# answer here\n",
        "arr = np.arange(10)\n",
        "arr[1:-1][arr[1:-1]%2!=0]=-1\n",
        "print(arr)"
      ]
    },
    {
      "cell_type": "markdown",
      "id": "6079a0e7",
      "metadata": {
        "id": "6079a0e7"
      },
      "source": [
        "### Dataset for Q36–Q40\n",
        "\n",
        "A CSV file **`students_scores.csv`** is already placed in this folder (Link-https://drive.google.com/file/d/1B7zDahhmQzXkQmvskS27H07B4Xftf9xA/view?usp=sharing).  \n",
        "\n",
        "Columns: `id, math, english, science` (10 students). Use **pandas** to import the file and then perform **NumPy** operations.\n"
      ]
    },
    {
      "cell_type": "markdown",
      "id": "a13f8d60",
      "metadata": {
        "id": "a13f8d60"
      },
      "source": [
        "### Q36. Import `students_scores.csv` as a pandas DataFrame `df`. Then convert the `math`, `english`, and `science` columns to separate NumPy arrays and print their shapes."
      ]
    },
    {
      "cell_type": "code",
      "execution_count": 46,
      "id": "d144170d",
      "metadata": {
        "id": "d144170d",
        "outputId": "6350b3df-69c9-4ff8-ec72-98634f8f1e52",
        "colab": {
          "base_uri": "https://localhost:8080/"
        }
      },
      "outputs": [
        {
          "output_type": "stream",
          "name": "stdout",
          "text": [
            "    id  math  english  science\n",
            "0  S01    78       65       72\n",
            "1  S02    56       70       60\n",
            "2  S03    88       81       90\n",
            "3  S04    45       55       48\n",
            "4  S05    92       76       85\n",
            "5  S06    67       62       71\n",
            "6  S07    73       80       66\n",
            "7  S08    59       58       64\n",
            "8  S09    84       79       88\n",
            "9  S10    61       69       57\n",
            "(10,)\n",
            "(10,)\n",
            "(10,)\n"
          ]
        }
      ],
      "source": [
        "# answer here\n",
        "import pandas as pd\n",
        "import numpy as np\n",
        "df = pd.read_csv(\"/content/students_scores (1).csv\")\n",
        "print(df)\n",
        "math = df[\"math\"].values\n",
        "english = df[\"english\"].values\n",
        "science = df[\"science\"].values\n",
        "print(math.shape)\n",
        "print(english.shape)\n",
        "print(science.shape)"
      ]
    },
    {
      "cell_type": "markdown",
      "id": "75133471",
      "metadata": {
        "id": "75133471"
      },
      "source": [
        "### Q37. Using NumPy on the arrays from Q36, compute the mean score of each subject (math, english, science) and print them."
      ]
    },
    {
      "cell_type": "code",
      "execution_count": 47,
      "id": "2a0f8fa4",
      "metadata": {
        "id": "2a0f8fa4",
        "outputId": "988ba252-3850-47b4-831b-49007a1837d1",
        "colab": {
          "base_uri": "https://localhost:8080/"
        }
      },
      "outputs": [
        {
          "output_type": "stream",
          "name": "stdout",
          "text": [
            "70.3\n",
            "69.5\n",
            "70.1\n"
          ]
        }
      ],
      "source": [
        "# answer here\n",
        "print(np.mean(math))\n",
        "print(np.mean(english))\n",
        "print(np.mean(science))\n"
      ]
    },
    {
      "cell_type": "markdown",
      "id": "ff04b9d9",
      "metadata": {
        "id": "ff04b9d9"
      },
      "source": [
        "### Q38. Using NumPy, compute each student’s **total score** (math + english + science) and print the `id` of the student with the highest total."
      ]
    },
    {
      "cell_type": "code",
      "execution_count": 48,
      "id": "30e375cf",
      "metadata": {
        "id": "30e375cf",
        "outputId": "8cbf6ab7-a693-44a6-8010-cc0ec599f4a4",
        "colab": {
          "base_uri": "https://localhost:8080/"
        }
      },
      "outputs": [
        {
          "output_type": "stream",
          "name": "stdout",
          "text": [
            "S03\n"
          ]
        }
      ],
      "source": [
        "# answer here\n",
        "total = math+english+science\n",
        "print(df[\"id\"][np.argmax(total)])"
      ]
    },
    {
      "cell_type": "markdown",
      "id": "187f60d3",
      "metadata": {
        "id": "187f60d3"
      },
      "source": [
        "### Q39. Using NumPy, standardize the `math` scores to **z-scores**: `(x - mean) / std` and print the first 5 standardized values."
      ]
    },
    {
      "cell_type": "code",
      "execution_count": 49,
      "id": "a92c0ff5",
      "metadata": {
        "id": "a92c0ff5",
        "outputId": "90c43b5a-bbca-423c-e035-21aefa0b2b97",
        "colab": {
          "base_uri": "https://localhost:8080/"
        }
      },
      "outputs": [
        {
          "output_type": "stream",
          "name": "stdout",
          "text": [
            "[ 0.53032869 -0.98489614  1.21906724 -1.74250855  1.49456267 -0.22728372\n",
            "  0.18595941 -0.77827457  0.94357182 -0.64052686]\n"
          ]
        }
      ],
      "source": [
        "# answer here\n",
        "print((math-np.mean(math))/np.std(math))"
      ]
    },
    {
      "cell_type": "code",
      "execution_count": null,
      "id": "26e6be36",
      "metadata": {
        "id": "26e6be36"
      },
      "outputs": [],
      "source": [
        "# this is how you can approach question number 39\n",
        "# dont fear about std(standard deviation , just google it and you understand its simple, else you can connect for doubts)\n",
        "\n",
        "\n",
        "import pandas as pd\n",
        "import numpy as np\n",
        "\n",
        "# Load the dataset\n",
        "df = pd.read_csv(\"students_scores.csv\")\n",
        "\n",
        "# Extract math column as NumPy array\n",
        "math_scores = df[\"math\"].values\n",
        "\n",
        "# Compute z-scores\n",
        "z_scores = (math_scores - np.mean(math_scores)) / np.std(math_scores)\n",
        "\n",
        "# Print first 5 standardized values\n",
        "print(z_scores[:5])\n"
      ]
    },
    {
      "cell_type": "markdown",
      "id": "dc5f1055",
      "metadata": {
        "id": "dc5f1055"
      },
      "source": [
        "### Q40. Using NumPy logical operations, count how many students scored **≥ 70 in all three subjects** and print that count."
      ]
    },
    {
      "cell_type": "code",
      "execution_count": 50,
      "id": "35f3e206",
      "metadata": {
        "id": "35f3e206",
        "outputId": "eca22876-d77d-450d-e552-ff11932d8434",
        "colab": {
          "base_uri": "https://localhost:8080/"
        }
      },
      "outputs": [
        {
          "output_type": "stream",
          "name": "stdout",
          "text": [
            "3\n"
          ]
        }
      ],
      "source": [
        "# answer here\n",
        "count = np.count_nonzero((math>=70) & (english>=70) & (science>=70))\n",
        "print(count)"
      ]
    }
  ],
  "metadata": {
    "language_info": {
      "name": "python"
    },
    "colab": {
      "provenance": [],
      "include_colab_link": true
    },
    "kernelspec": {
      "name": "python3",
      "display_name": "Python 3"
    }
  },
  "nbformat": 4,
  "nbformat_minor": 5
}