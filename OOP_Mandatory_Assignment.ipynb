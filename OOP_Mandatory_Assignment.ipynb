{
  "cells": [
    {
      "cell_type": "markdown",
      "metadata": {
        "id": "view-in-github",
        "colab_type": "text"
      },
      "source": [
        "<a href=\"https://colab.research.google.com/github/sameermdanwer/accio-job/blob/main/OOP_Mandatory_Assignment.ipynb\" target=\"_parent\"><img src=\"https://colab.research.google.com/assets/colab-badge.svg\" alt=\"Open In Colab\"/></a>"
      ]
    },
    {
      "cell_type": "markdown",
      "id": "e9977157",
      "metadata": {
        "id": "e9977157"
      },
      "source": [
        "# Object-Oriented Programming (OOP) - Practice Assignment\n",
        "\n",
        "This assignment will help you understand the basics of Object-Oriented Programming (OOP) in Python.  \n",
        "Each question is written in a simple way so that you know exactly what to do.\n",
        "\n",
        "**Structure:**\n",
        "- 6 Easy Questions  \n",
        "- 2 Medium Questions  \n",
        "- 2 Hard Questions\n",
        "\n",
        "Follow each question carefully and try to run the examples step by step.\n"
      ]
    },
    {
      "cell_type": "markdown",
      "id": "522a3c58",
      "metadata": {
        "id": "522a3c58"
      },
      "source": [
        "### Question 1 (Easy)\n",
        "**Create a Class and Object**\n",
        "\n",
        "Create a class named `Student` with one attribute `name`.  \n",
        "Then create an object of this class and print the student's name.\n",
        "\n",
        "*Hint:* Use the `__init__` method to initialize the name attribute."
      ]
    },
    {
      "cell_type": "code",
      "source": [
        "#answer here\n",
        "class Student:\n",
        "    def __init__(self, name):\n",
        "        self.name = name\n",
        "\n",
        "student = Student(\"John Doe\")\n",
        "print(student.name)"
      ],
      "metadata": {
        "id": "eoxW1xeIzyDT",
        "outputId": "f4c6a94e-7924-435a-aea2-5a5d7d74572f",
        "colab": {
          "base_uri": "https://localhost:8080/"
        }
      },
      "id": "eoxW1xeIzyDT",
      "execution_count": 1,
      "outputs": [
        {
          "output_type": "stream",
          "name": "stdout",
          "text": [
            "John Doe\n"
          ]
        }
      ]
    },
    {
      "cell_type": "markdown",
      "id": "62eb0fc1",
      "metadata": {
        "id": "62eb0fc1"
      },
      "source": [
        "### Question 2 (Easy)\n",
        "**Add Multiple Attributes**\n",
        "\n",
        "Create a class `Car` that has two attributes: `brand` and `year`.  \n",
        "Create two objects of this class for two different cars and print their details using `print()`."
      ]
    },
    {
      "cell_type": "code",
      "source": [
        "#answer here\n",
        "class Car:\n",
        "    def __init__(self, brand, year):\n",
        "        self.brand = brand\n",
        "        self.year = year\n",
        "\n",
        "car1 = Car(\"Toyota\", 2022)\n",
        "car2 = Car(\"Honda\", 2021)\n",
        "\n",
        "print(f\"Car 1: {car1.brand} {car1.year}\")\n",
        "print(f\"Car 2: {car2.brand} {car2.year}\")"
      ],
      "metadata": {
        "id": "aDLB9Ourz1fb",
        "outputId": "24ba50bb-8bf5-4013-ba7a-dad5e8e2657b",
        "colab": {
          "base_uri": "https://localhost:8080/"
        }
      },
      "id": "aDLB9Ourz1fb",
      "execution_count": 6,
      "outputs": [
        {
          "output_type": "stream",
          "name": "stdout",
          "text": [
            "Car 1: Toyota 2022\n",
            "Car 2: Honda 2021\n"
          ]
        }
      ]
    },
    {
      "cell_type": "markdown",
      "id": "009120a2",
      "metadata": {
        "id": "009120a2"
      },
      "source": [
        "### Question 3 (Easy)\n",
        "**Methods in a Class**\n",
        "\n",
        "Create a class `Circle` with one attribute `radius`.  \n",
        "Add a method `area()` that returns the area of the circle.\n",
        "\n",
        "*Formula:* Area = π × radius²"
      ]
    },
    {
      "cell_type": "code",
      "source": [
        "#answer here\n",
        "import math\n",
        "\n",
        "class Circle:\n",
        "    def __init__(self, radius):\n",
        "        self.radius = radius\n",
        "\n",
        "    def area(self):\n",
        "        return math.pi * self.radius ** 2\n",
        "\n",
        "circle = Circle(5)\n",
        "print(circle.area())\n"
      ],
      "metadata": {
        "id": "yNLySqc9z2PO",
        "outputId": "357fce6f-b1a1-45c2-de4d-101f5f76e351",
        "colab": {
          "base_uri": "https://localhost:8080/"
        }
      },
      "id": "yNLySqc9z2PO",
      "execution_count": 7,
      "outputs": [
        {
          "output_type": "stream",
          "name": "stdout",
          "text": [
            "78.53981633974483\n"
          ]
        }
      ]
    },
    {
      "cell_type": "markdown",
      "id": "0b760f6d",
      "metadata": {
        "id": "0b760f6d"
      },
      "source": [
        "### Question 4 (Easy)\n",
        "**Default and Parameterized Constructor**\n",
        "\n",
        "Create a class `Book` that takes the book title and author name as parameters when creating an object.  \n",
        "Also, create one object without any arguments and set default values like `'Unknown Title'` and `'Unknown Author'`."
      ]
    },
    {
      "cell_type": "code",
      "source": [
        "#answer here\n",
        "class Book:\n",
        "    def __init__(self, title='Unknown Title', author='Unknown Author'):\n",
        "        self.title = title\n",
        "        self.author = author\n",
        "\n",
        "book1 = Book('The Great Gatsby', 'F. Scott Fitzgerald')\n",
        "book2 = Book()\n",
        "print(book1.title, book1.author)\n",
        "print(book2.title, book2.author)"
      ],
      "metadata": {
        "id": "pbYx_DZDz2xR",
        "outputId": "4a398d76-fad6-4375-e43e-05250770cd72",
        "colab": {
          "base_uri": "https://localhost:8080/"
        }
      },
      "id": "pbYx_DZDz2xR",
      "execution_count": 8,
      "outputs": [
        {
          "output_type": "stream",
          "name": "stdout",
          "text": [
            "The Great Gatsby F. Scott Fitzgerald\n",
            "Unknown Title Unknown Author\n"
          ]
        }
      ]
    },
    {
      "cell_type": "markdown",
      "id": "67ac94fd",
      "metadata": {
        "id": "67ac94fd"
      },
      "source": [
        "### Question 5 (Easy)\n",
        "**Use of Self Keyword**\n",
        "\n",
        "Create a class `Employee` that has a method `display()` which prints `'This is an Employee class'`.  \n",
        "Then create one object and call the method using that object."
      ]
    },
    {
      "cell_type": "code",
      "source": [
        "#answer here\n",
        "class Employee:\n",
        "    def display(self):\n",
        "        print('This is an Employee class')\n",
        "\n",
        "employee = Employee()\n",
        "employee.display()"
      ],
      "metadata": {
        "id": "8JXQn5LCz3Qp",
        "outputId": "9be85c49-fbe7-42b6-fbe9-3bedc5be5fd2",
        "colab": {
          "base_uri": "https://localhost:8080/"
        }
      },
      "id": "8JXQn5LCz3Qp",
      "execution_count": 9,
      "outputs": [
        {
          "output_type": "stream",
          "name": "stdout",
          "text": [
            "This is an Employee class\n"
          ]
        }
      ]
    },
    {
      "cell_type": "markdown",
      "id": "dce22c96",
      "metadata": {
        "id": "dce22c96"
      },
      "source": [
        "### Question 6 (Easy)\n",
        "**Simple Calculator Class**\n",
        "\n",
        "Create a class `Calculator` with methods for addition, subtraction, multiplication, and division.  \n",
        "Each method should take two numbers as parameters and return the result."
      ]
    },
    {
      "cell_type": "code",
      "source": [
        "#answer here\n",
        "class Calculator:\n",
        "    def add(self, a, b):\n",
        "        return a + b\n",
        "\n",
        "    def subtract(self, a, b):\n",
        "        return a - b\n",
        "\n",
        "    def multiply(self, a, b):\n",
        "        return a * b\n",
        "\n",
        "    def divide(self, a, b):\n",
        "        return a / b\n",
        "\n",
        "calculator = Calculator()\n",
        "print(calculator.add(5, 3))\n",
        "print(calculator.subtract(5, 3))\n",
        "print(calculator.multiply(5, 3))\n",
        "print(calculator.divide(5, 3))\n",
        "\n"
      ],
      "metadata": {
        "id": "WeDQIvebz3uF",
        "outputId": "859b54d0-46e6-4ad9-9f64-fed9da2e2a5f",
        "colab": {
          "base_uri": "https://localhost:8080/"
        }
      },
      "id": "WeDQIvebz3uF",
      "execution_count": 10,
      "outputs": [
        {
          "output_type": "stream",
          "name": "stdout",
          "text": [
            "8\n",
            "2\n",
            "15\n",
            "1.6666666666666667\n"
          ]
        }
      ]
    },
    {
      "cell_type": "markdown",
      "id": "d5f60974",
      "metadata": {
        "id": "d5f60974"
      },
      "source": [
        "### Question 7 (Medium)\n",
        "**Working with Multiple Objects**\n",
        "\n",
        "Create a class `Student` with attributes `name`, `marks1`, `marks2`, and `marks3`.  \n",
        "Add a method `average()` that returns the average marks of the student.  \n",
        "Create objects for three students and print their average marks."
      ]
    },
    {
      "cell_type": "code",
      "source": [
        "#answer here\n",
        "class Student:\n",
        "    def __init__(self, name, marks1, marks2, marks3):\n",
        "        self.name = name\n",
        "        self.marks1 = marks1\n",
        "        self.marks2 = marks2\n",
        "        self.marks3 = marks3\n",
        "\n",
        "    def average(self):\n",
        "        return (self.marks1 + self.marks2 + self.marks3) / 3\n",
        "\n",
        "student1 = Student(\"John Doe\", 80, 75, 90)\n",
        "student2 = Student(\"Jane Doe\", 90, 85, 95)\n",
        "student3 = Student(\"Bob Smith\", 70, 65, 75)\n",
        "\n",
        "print(student1.average())\n",
        "print(student2.average())\n",
        "print(student3.average())\n"
      ],
      "metadata": {
        "id": "un7JLb6dz4MD",
        "outputId": "b039e4c0-6993-4506-fc9d-df23b767d75f",
        "colab": {
          "base_uri": "https://localhost:8080/"
        }
      },
      "id": "un7JLb6dz4MD",
      "execution_count": 12,
      "outputs": [
        {
          "output_type": "stream",
          "name": "stdout",
          "text": [
            "81.66666666666667\n",
            "90.0\n",
            "70.0\n"
          ]
        }
      ]
    },
    {
      "cell_type": "markdown",
      "id": "6047ad11",
      "metadata": {
        "id": "6047ad11"
      },
      "source": [
        "### Question 8 (Medium)\n",
        "**Inheritance Concept**\n",
        "\n",
        "Create a base class `Person` with an attribute `name` and a method `show_name()`.  \n",
        "Then create a derived class `Teacher` that adds a new attribute `subject` and a method `show_subject()`.  \n",
        "Create an object of `Teacher` and call both methods."
      ]
    },
    {
      "cell_type": "code",
      "source": [
        "#answer here\n",
        "class Person:\n",
        "    def __init__(self, name):\n",
        "        self.name = name\n",
        "\n",
        "    def show_name(self):\n",
        "        print(self.name)\n",
        "\n",
        "class Teacher(Person):\n",
        "    def __init__(self, name, subject):\n",
        "        super().__init__(name)\n",
        "        self.subject = subject\n",
        "\n",
        "    def show_subject(self):\n",
        "        print(self.subject)\n",
        "\n",
        "teacher = Teacher(\"John Doe\", \"Math\")\n",
        "teacher.show_name()\n",
        "teacher.show_subject()\n"
      ],
      "metadata": {
        "id": "3RF85lsjz4sT",
        "outputId": "3bccfa98-df26-41b2-8870-cff01142785e",
        "colab": {
          "base_uri": "https://localhost:8080/"
        }
      },
      "id": "3RF85lsjz4sT",
      "execution_count": 14,
      "outputs": [
        {
          "output_type": "stream",
          "name": "stdout",
          "text": [
            "John Doe\n",
            "Math\n"
          ]
        }
      ]
    },
    {
      "cell_type": "markdown",
      "id": "062ac860",
      "metadata": {
        "id": "062ac860"
      },
      "source": [
        "### Question 9 (Hard)\n",
        "**Encapsulation Example**\n",
        "\n",
        "Create a class `BankAccount` with attributes `__balance` (private) and `account_holder`.  \n",
        "Add methods `deposit(amount)` and `withdraw(amount)` to update the balance safely.  \n",
        "Print the final balance only through a method `show_balance()`."
      ]
    },
    {
      "cell_type": "code",
      "source": [
        "#answer here\n",
        "class BankAccount:\n",
        "    def __init__(self, account_holder, balance=0):\n",
        "        self.account_holder = account_holder\n",
        "        self.__balance = balance\n",
        "\n",
        "    def deposit(self, amount):\n",
        "        self.__balance += amount\n",
        "\n",
        "    def withdraw(self, amount):\n",
        "        if amount > self.__balance:\n",
        "            print(\"Insufficient funds\")\n",
        "        else:\n",
        "            self.__balance -= amount\n",
        "\n",
        "\n",
        "    def show_balance(self):\n",
        "        print(self.__balance)\n",
        "\n",
        "account = BankAccount(\"John Doe\", 1000)\n",
        "account.deposit(500)\n",
        "account.withdraw(200)\n",
        "account.show_balance()"
      ],
      "metadata": {
        "id": "F6gWsUOFz5XN",
        "outputId": "1bb4455b-3c7d-4862-9047-c501169043a5",
        "colab": {
          "base_uri": "https://localhost:8080/"
        }
      },
      "id": "F6gWsUOFz5XN",
      "execution_count": 16,
      "outputs": [
        {
          "output_type": "stream",
          "name": "stdout",
          "text": [
            "1300\n"
          ]
        }
      ]
    },
    {
      "cell_type": "markdown",
      "id": "f10a7d88",
      "metadata": {
        "id": "f10a7d88"
      },
      "source": [
        "### Question 10 (Hard)\n",
        "**Polymorphism Example**\n",
        "\n",
        "Create two classes: `Dog` and `Cat`.  \n",
        "Both should have a method named `speak()` that prints the sound of the animal.  \n",
        "Write a function `animal_sound(animal)` that calls the `speak()` method of any animal passed to it.\n",
        "\n",
        "*Hint:* This shows how the same method name can have different behaviors depending on the object type."
      ]
    },
    {
      "cell_type": "code",
      "source": [
        "#answer here\n",
        "\n",
        "class Dog:\n",
        "    def speak(self):\n",
        "        print(\"Woof!\")\n",
        "\n",
        "class Cat:\n",
        "    def speak(self):\n",
        "        print(\"Meow!\")\n",
        "\n",
        "def animal_sound(animal):\n",
        "    animal.speak()\n",
        "\n",
        "dog = Dog()\n",
        "cat = Cat()\n",
        "\n",
        "animal_sound(dog)\n",
        "animal_sound(cat)\n",
        "\n"
      ],
      "metadata": {
        "id": "tvczT-hEz6Kd",
        "outputId": "e78ad64e-0492-4226-9da6-1a249ec5c47a",
        "colab": {
          "base_uri": "https://localhost:8080/"
        }
      },
      "id": "tvczT-hEz6Kd",
      "execution_count": 17,
      "outputs": [
        {
          "output_type": "stream",
          "name": "stdout",
          "text": [
            "Woof!\n",
            "Meow!\n"
          ]
        }
      ]
    }
  ],
  "metadata": {
    "colab": {
      "provenance": [],
      "include_colab_link": true
    },
    "language_info": {
      "name": "python"
    },
    "kernelspec": {
      "name": "python3",
      "display_name": "Python 3"
    }
  },
  "nbformat": 4,
  "nbformat_minor": 5
}