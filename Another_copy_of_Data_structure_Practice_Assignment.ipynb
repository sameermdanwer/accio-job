{
  "cells": [
    {
      "cell_type": "markdown",
      "metadata": {
        "id": "view-in-github",
        "colab_type": "text"
      },
      "source": [
        "<a href=\"https://colab.research.google.com/github/sameermdanwer/accio-job/blob/main/Another_copy_of_Data_structure_Practice_Assignment.ipynb\" target=\"_parent\"><img src=\"https://colab.research.google.com/assets/colab-badge.svg\" alt=\"Open In Colab\"/></a>"
      ]
    },
    {
      "cell_type": "markdown",
      "metadata": {
        "id": "8pRf9jW4fyVP"
      },
      "source": [
        "# Lists, Tuples, and Sets : Practice Assignment\n",
        "\n",
        "### Dear students these question will help you build a very strong foundation on data structures specificaly as data analyst\n",
        "\n",
        "Each problem has:\n",
        "- **Problem statement**\n",
        "- **What the expected answer should look like** (an example of the final result/state)\n",
        "- An **empty code cell** for you to solve it (look for `# write your code here`).\n",
        "\n",
        "> Tip: Run cells independently."
      ],
      "id": "8pRf9jW4fyVP"
    },
    {
      "cell_type": "markdown",
      "metadata": {
        "id": "dIbr5ZfofyVS"
      },
      "source": [
        "### List Q1\n",
        "\n",
        "**Problem:** Write a program to retrieve the value 4 from the list `my_list = [[1, 2], [3, 4], [5, 6]]` using indexing.\n",
        "\n",
        "**Expected answer should look like (example):**\n",
        "```\n",
        "4\n",
        "```"
      ],
      "id": "dIbr5ZfofyVS"
    },
    {
      "cell_type": "code",
      "execution_count": null,
      "metadata": {
        "id": "qKpIQgUPfyVS",
        "colab": {
          "base_uri": "https://localhost:8080/"
        },
        "outputId": "e92b95dc-8f52-48d2-cedd-306005b6b101"
      },
      "outputs": [
        {
          "output_type": "stream",
          "name": "stdout",
          "text": [
            "4\n"
          ]
        }
      ],
      "source": [
        "# write your code here\n",
        "my_list = [[1, 2], [3, 4], [5, 6]]\n",
        "print(my_list[1][1])"
      ],
      "id": "qKpIQgUPfyVS"
    },
    {
      "cell_type": "markdown",
      "metadata": {
        "id": "qErZqUJvfyVT"
      },
      "source": [
        "### List Q2\n",
        "\n",
        "**Problem:** Write a program to reverse the list `[10, 20, 30, 40, 50]` using slicing and explain how the slicing parameters achieve the result.\n",
        "\n",
        "**Expected answer should look like (example):**\n",
        "```\n",
        "[50, 40, 30, 20, 10]  # slicing: lst[::-1] (start:end:step=-1)\n",
        "```"
      ],
      "id": "qErZqUJvfyVT"
    },
    {
      "cell_type": "code",
      "execution_count": null,
      "metadata": {
        "id": "Xb_G2R0GfyVT",
        "colab": {
          "base_uri": "https://localhost:8080/"
        },
        "outputId": "7b936027-9350-412f-8a32-b7c3ebe6f080"
      },
      "outputs": [
        {
          "output_type": "execute_result",
          "data": {
            "text/plain": [
              "[50, 40, 30, 20, 10]"
            ]
          },
          "metadata": {},
          "execution_count": 4
        }
      ],
      "source": [
        "# write your code here\n",
        "list = [50, 40, 30, 20, 10]\n",
        "list[0:5]\n"
      ],
      "id": "Xb_G2R0GfyVT"
    },
    {
      "cell_type": "markdown",
      "metadata": {
        "id": "wk0JTcZgfyVU"
      },
      "source": [
        "### List Q3\n",
        "\n",
        "**Problem:** Write a program to extract every second element from the list `[1, 2, 3, 4, 5, 6, 7, 8]` using slicing.\n",
        "\n",
        "**Expected answer should look like (example):**\n",
        "```\n",
        "[2, 4, 6, 8]\n",
        "```"
      ],
      "id": "wk0JTcZgfyVU"
    },
    {
      "cell_type": "code",
      "execution_count": null,
      "metadata": {
        "id": "yRA2C-H5fyVU",
        "colab": {
          "base_uri": "https://localhost:8080/"
        },
        "outputId": "04d5b610-fff7-437d-c903-0d6b21071463"
      },
      "outputs": [
        {
          "output_type": "execute_result",
          "data": {
            "text/plain": [
              "[2, 4, 6, 8]"
            ]
          },
          "metadata": {},
          "execution_count": 11
        }
      ],
      "source": [
        "# write your code here\n",
        "list = [1, 2, 3, 4, 5, 6, 7, 8]\n",
        "list[1:9:2]"
      ],
      "id": "yRA2C-H5fyVU"
    },
    {
      "cell_type": "markdown",
      "metadata": {
        "id": "oK9W1WZBfyVU"
      },
      "source": [
        "### List Q4\n",
        "\n",
        "**Problem:** Write a program to replace the middle two elements of the list `[10, 20, 30, 40, 50]` with `[99, 100, 101]` using slicing.\n",
        "\n",
        "**Expected answer should look like (example):**\n",
        "```\n",
        "[10, 20, 99, 100, 101, 50]\n",
        "```"
      ],
      "id": "oK9W1WZBfyVU"
    },
    {
      "cell_type": "code",
      "execution_count": null,
      "metadata": {
        "id": "uB4t-1-FfyVU",
        "colab": {
          "base_uri": "https://localhost:8080/"
        },
        "outputId": "c8e639e3-65d3-4942-bc57-c10efc7ab5be"
      },
      "outputs": [
        {
          "output_type": "stream",
          "name": "stdout",
          "text": [
            "[10, 20, 99, 100, 101, 50]\n"
          ]
        }
      ],
      "source": [
        "# write your code here\n",
        "list = [10, 20, 30, 40, 50]\n",
        "list[2:4] = [99, 100, 101]\n",
        "print(list)"
      ],
      "id": "uB4t-1-FfyVU"
    },
    {
      "cell_type": "markdown",
      "metadata": {
        "id": "mOp9HBHafyVU"
      },
      "source": [
        "### List Q5\n",
        "\n",
        "**Problem:** Write a program to transform the list `[1, 2, 3, 4, 5]` into `[1, 99, 100, 101, 4, 5]` by modifying a slice.\n",
        "\n",
        "**Expected answer should look like (example):**\n",
        "```\n",
        "[1, 99, 100, 101, 4, 5]\n",
        "```"
      ],
      "id": "mOp9HBHafyVU"
    },
    {
      "cell_type": "code",
      "execution_count": null,
      "metadata": {
        "id": "STvMWW5GfyVV",
        "colab": {
          "base_uri": "https://localhost:8080/"
        },
        "outputId": "5f4c3dd7-bf8a-4b22-a8a8-0f80dba202f9"
      },
      "outputs": [
        {
          "output_type": "stream",
          "name": "stdout",
          "text": [
            "[1, 99, 100, 101, 4, 5]\n"
          ]
        }
      ],
      "source": [
        "# write your code here\n",
        "list = [1, 2, 3, 4, 5]\n",
        "list[1:3] = [99, 100, 101]\n",
        "print(list)"
      ],
      "id": "STvMWW5GfyVV"
    },
    {
      "cell_type": "markdown",
      "metadata": {
        "id": "YboV54EpfyVV"
      },
      "source": [
        "### List Q6\n",
        "\n",
        "**Problem:** Write a program to concatenate two lists without using the `+` operator.\n",
        "\n",
        "**Expected answer should look like (example):**\n",
        "```\n",
        "[...concatenated items...]  # e.g., via unpacking or extend\n",
        "```"
      ],
      "id": "YboV54EpfyVV"
    },
    {
      "cell_type": "code",
      "execution_count": null,
      "metadata": {
        "id": "qEzZVAuGfyVV",
        "colab": {
          "base_uri": "https://localhost:8080/"
        },
        "outputId": "c061e51a-6874-4b47-ef1b-d99a8bff6aca"
      },
      "outputs": [
        {
          "output_type": "stream",
          "name": "stdout",
          "text": [
            "[1, 2, 3, 4, 5, 6]\n"
          ]
        }
      ],
      "source": [
        "# write your code here\n",
        "list1 = [1, 2, 3]\n",
        "list2 = [4, 5, 6]\n",
        "list1.extend(list2)\n",
        "print(list1)"
      ],
      "id": "qEzZVAuGfyVV"
    },
    {
      "cell_type": "markdown",
      "metadata": {
        "id": "aiMDaI-CfyVV"
      },
      "source": [
        "### List Q7\n",
        "\n",
        "**Problem:** Write a program to demonstrate how the `extend` method behaves if the argument is a string using `my_list = [1, 2, 3]`.\n",
        "\n",
        "**Expected answer should look like (example):**\n",
        "```\n",
        "[1, 2, 3, 'a', 'b', 'c']  # e.g., my_list.extend('abc') adds each char\n",
        "```"
      ],
      "id": "aiMDaI-CfyVV"
    },
    {
      "cell_type": "code",
      "execution_count": null,
      "metadata": {
        "id": "xYcujVcnfyVV",
        "colab": {
          "base_uri": "https://localhost:8080/"
        },
        "outputId": "6d5c3216-b136-4a33-fc1e-64da6c1124a5"
      },
      "outputs": [
        {
          "output_type": "stream",
          "name": "stdout",
          "text": [
            "[1, 2, 3, 'a', 'b', 'c']\n"
          ]
        }
      ],
      "source": [
        "# write your code here\n",
        "my_list = [1, 2, 3]\n",
        "my_list.extend('abc')\n",
        "print(my_list)"
      ],
      "id": "xYcujVcnfyVV"
    },
    {
      "cell_type": "markdown",
      "metadata": {
        "id": "jDPtjjYrfyVV"
      },
      "source": [
        "### List Q8\n",
        "\n",
        "**Problem:** Write a program that uses `extend` to merge two lists in such a way that duplicates from the second list are not added.\n",
        "\n",
        "**Expected answer should look like (example):**\n",
        "```\n",
        "[merged_unique_list]  # second list's items only if not already present\n",
        "```"
      ],
      "id": "jDPtjjYrfyVV"
    },
    {
      "cell_type": "code",
      "execution_count": null,
      "metadata": {
        "id": "MDSsR4YdfyVV",
        "colab": {
          "base_uri": "https://localhost:8080/"
        },
        "outputId": "9e220d35-d713-4032-fcd1-847435faffb5"
      },
      "outputs": [
        {
          "output_type": "stream",
          "name": "stdout",
          "text": [
            "[1, 2, 3, 4, 5, 6, 7]\n"
          ]
        }
      ],
      "source": [
        "# write your code here\n",
        "list1 = [1, 2, 3, 4, 5]\n",
        "list2 = [3, 4, 5, 6, 7]\n",
        "list1.extend(item for item in list2 if item not in list1)\n",
        "print(list1)"
      ],
      "id": "MDSsR4YdfyVV"
    },
    {
      "cell_type": "markdown",
      "metadata": {
        "id": "bnFHf3nKfyVV"
      },
      "source": [
        "### List Q9\n",
        "\n",
        "**Problem:** Write a program to create a list of 100 zeros using repetition and then replace every 10th element with 1.\n",
        "\n",
        "**Expected answer should look like (example):**\n",
        "```\n",
        "[1 appears at indices 9,19,29,...]\n",
        "```"
      ],
      "id": "bnFHf3nKfyVV"
    },
    {
      "cell_type": "code",
      "execution_count": null,
      "metadata": {
        "id": "TnQW2Z11fyVV",
        "colab": {
          "base_uri": "https://localhost:8080/"
        },
        "outputId": "c6d612cf-cc9f-4de1-99c5-c1064eaa1306"
      },
      "outputs": [
        {
          "output_type": "stream",
          "name": "stdout",
          "text": [
            "[0, 0, 0, 0, 0, 0, 0, 0, 0, 0, 1, 0, 0, 0, 0, 0, 0, 0, 0, 0, 1, 0, 0, 0, 0, 0, 0, 0, 0, 0, 1, 0, 0, 0, 0, 0, 0, 0, 0, 0, 1, 0, 0, 0, 0, 0, 0, 0, 0, 0, 1, 0, 0, 0, 0, 0, 0, 0, 0, 0, 1, 0, 0, 0, 0, 0, 0, 0, 0, 0, 1, 0, 0, 0, 0, 0, 0, 0, 0, 0, 1, 0, 0, 0, 0, 0, 0, 0, 0, 0, 1, 0, 0, 0, 0, 0, 0, 0, 0, 0]\n"
          ]
        }
      ],
      "source": [
        "# write your code here\n",
        "list = [0] * 100\n",
        "for i in range(10, 100, 10):\n",
        "    list[i] = 1\n",
        "print(list)"
      ],
      "id": "TnQW2Z11fyVV"
    },
    {
      "cell_type": "markdown",
      "metadata": {
        "id": "g2UP8pXGfyVW"
      },
      "source": [
        "### List Q10\n",
        "\n",
        "**Problem:** Write a Python command without using a loop to check if **all** the elements of `[2, 4]` are present in the list `[1, 2, 3, 4, 5]`.\n",
        "\n",
        "**Expected answer should look like (example):**\n",
        "```\n",
        "True  # e.g., set([2,4]).issubset([1,2,3,4,5])\n",
        "```"
      ],
      "id": "g2UP8pXGfyVW"
    },
    {
      "cell_type": "code",
      "execution_count": null,
      "metadata": {
        "id": "R8-l25c4fyVW",
        "colab": {
          "base_uri": "https://localhost:8080/"
        },
        "outputId": "d4b53ff1-9b24-47a2-9063-91182c9fb80e"
      },
      "outputs": [
        {
          "output_type": "execute_result",
          "data": {
            "text/plain": [
              "True"
            ]
          },
          "metadata": {},
          "execution_count": 23
        }
      ],
      "source": [
        "# write your code here\n",
        "list = [1, 2, 3, 4, 5]\n",
        "set([2, 4]).issubset(list)\n"
      ],
      "id": "R8-l25c4fyVW"
    },
    {
      "cell_type": "markdown",
      "metadata": {
        "id": "aWvONtsUfyVW"
      },
      "source": [
        "### List Q11\n",
        "\n",
        "**Problem:** Write a program to use `not in` to filter out all the elements of a list that exist in another list, e.g., removing elements in `[2, 4]` from `[1, 2, 3, 4, 5]`.\n",
        "\n",
        "**Expected answer should look like (example):**\n",
        "```\n",
        "[1, 3, 5]\n",
        "```"
      ],
      "id": "aWvONtsUfyVW"
    },
    {
      "cell_type": "code",
      "execution_count": null,
      "metadata": {
        "id": "5RM0kWVufyVW",
        "colab": {
          "base_uri": "https://localhost:8080/"
        },
        "outputId": "a45eddf3-0852-40d8-d79d-77a16dfef2c8"
      },
      "outputs": [
        {
          "output_type": "stream",
          "name": "stdout",
          "text": [
            "[1, 3, 5]\n"
          ]
        }
      ],
      "source": [
        "# write your code here\n",
        "list1 = [1, 2, 3, 4, 5]\n",
        "list2 = [2, 4]\n",
        "list1 = [item for item in list1 if item not in list2]\n",
        "print(list1)"
      ],
      "id": "5RM0kWVufyVW"
    },
    {
      "cell_type": "markdown",
      "metadata": {
        "id": "gFcNPkVMfyVW"
      },
      "source": [
        "### List Q12\n",
        "\n",
        "**Problem:** Create a list of integers from 1 to 10.\n",
        "\n",
        "**Expected answer should look like (example):**\n",
        "```\n",
        "[1, 2, 3, 4, 5, 6, 7, 8, 9, 10]\n",
        "```"
      ],
      "id": "gFcNPkVMfyVW"
    },
    {
      "cell_type": "code",
      "execution_count": null,
      "metadata": {
        "id": "OMf9DKBffyVW",
        "colab": {
          "base_uri": "https://localhost:8080/"
        },
        "outputId": "3df74f46-7f59-4d1c-b856-361621934f95"
      },
      "outputs": [
        {
          "output_type": "stream",
          "name": "stdout",
          "text": [
            "[1, 2, 3, 4, 5, 6, 7, 8, 9, 10]\n"
          ]
        }
      ],
      "source": [
        "# write your code here\n",
        "list = []\n",
        "for i in range(1, 11):\n",
        "    list.append(i)\n",
        "print(list)"
      ],
      "id": "OMf9DKBffyVW"
    },
    {
      "cell_type": "markdown",
      "metadata": {
        "id": "qLAAloubfyVW"
      },
      "source": [
        "### List Q13\n",
        "\n",
        "**Problem:** Add an element to the end of a list using `append()`.\n",
        "\n",
        "**Expected answer should look like (example):**\n",
        "```\n",
        "[...original..., 99]\n",
        "```"
      ],
      "id": "qLAAloubfyVW"
    },
    {
      "cell_type": "code",
      "execution_count": null,
      "metadata": {
        "id": "JAEwIYJUfyVW",
        "colab": {
          "base_uri": "https://localhost:8080/"
        },
        "outputId": "7295de35-f6cd-4a98-e23c-cad97e4bdf83"
      },
      "outputs": [
        {
          "output_type": "stream",
          "name": "stdout",
          "text": [
            "[1, 2, 3, 4, 5, 99]\n"
          ]
        }
      ],
      "source": [
        "# write your code here\n",
        "list = [1, 2, 3, 4, 5]\n",
        "list.append(99)\n",
        "print(list)\n"
      ],
      "id": "JAEwIYJUfyVW"
    },
    {
      "cell_type": "markdown",
      "metadata": {
        "id": "7FZcvrd6fyVW"
      },
      "source": [
        "### List Q14\n",
        "\n",
        "**Problem:** Insert an element at the second position in a list.\n",
        "\n",
        "**Expected answer should look like (example):**\n",
        "```\n",
        "[first, NEW, rest...]\n",
        "```"
      ],
      "id": "7FZcvrd6fyVW"
    },
    {
      "cell_type": "code",
      "execution_count": null,
      "metadata": {
        "id": "xSlSO0mOfyVW",
        "colab": {
          "base_uri": "https://localhost:8080/"
        },
        "outputId": "1777a6db-4c75-4a01-f064-59f45998b6bb"
      },
      "outputs": [
        {
          "output_type": "stream",
          "name": "stdout",
          "text": [
            "[1, 99, 2, 3, 4, 5]\n"
          ]
        }
      ],
      "source": [
        "# write your code here\n",
        "list = [1, 2, 3, 4, 5]\n",
        "list.insert(1, 99)\n",
        "print(list)"
      ],
      "id": "xSlSO0mOfyVW"
    },
    {
      "cell_type": "markdown",
      "metadata": {
        "id": "lvazvs0efyVW"
      },
      "source": [
        "### List Q15\n",
        "\n",
        "**Problem:** Remove an element from a list using `remove()`.\n",
        "\n",
        "**Expected answer should look like (example):**\n",
        "```\n",
        "[list without that value]\n",
        "```"
      ],
      "id": "lvazvs0efyVW"
    },
    {
      "cell_type": "code",
      "execution_count": null,
      "metadata": {
        "id": "IWI8ZjrPfyVW",
        "colab": {
          "base_uri": "https://localhost:8080/"
        },
        "outputId": "e4a33d92-3c85-481c-bf75-37db3c896912"
      },
      "outputs": [
        {
          "output_type": "stream",
          "name": "stdout",
          "text": [
            "[1, 2, 4, 5]\n"
          ]
        }
      ],
      "source": [
        "# write your code here\n",
        "list = [1, 2, 3, 4, 5]\n",
        "list.remove(3)\n",
        "print(list)\n",
        "\n"
      ],
      "id": "IWI8ZjrPfyVW"
    },
    {
      "cell_type": "markdown",
      "metadata": {
        "id": "Se9S-xEmfyVW"
      },
      "source": [
        "### List Q16\n",
        "\n",
        "**Problem:** Remove and return the last element of a list using `pop()`.\n",
        "\n",
        "**Expected answer should look like (example):**\n",
        "```\n",
        "popped_value  # and list becomes [..., without last]\n",
        "```"
      ],
      "id": "Se9S-xEmfyVW"
    },
    {
      "cell_type": "code",
      "execution_count": null,
      "metadata": {
        "id": "WHUV0hJefyVW",
        "colab": {
          "base_uri": "https://localhost:8080/"
        },
        "outputId": "f298b6ec-d30a-43fa-8aa0-56d3b458b31a"
      },
      "outputs": [
        {
          "output_type": "stream",
          "name": "stdout",
          "text": [
            "5\n",
            "[1, 2, 3, 4]\n"
          ]
        }
      ],
      "source": [
        "# write your code here\n",
        "list = [1, 2, 3, 4, 5]\n",
        "popped_value = list.pop()\n",
        "print(popped_value)\n",
        "print(list)\n"
      ],
      "id": "WHUV0hJefyVW"
    },
    {
      "cell_type": "markdown",
      "metadata": {
        "id": "Cdiq_m0ufyVX"
      },
      "source": [
        "### List Q17\n",
        "\n",
        "**Problem:** Find the length of a list **without** using the `len()` function.\n",
        "\n",
        "**Expected answer should look like (example):**\n",
        "```\n",
        "10  # manual count with loop\n",
        "```"
      ],
      "id": "Cdiq_m0ufyVX"
    },
    {
      "cell_type": "code",
      "execution_count": null,
      "metadata": {
        "id": "zDB8NF_XfyVX",
        "colab": {
          "base_uri": "https://localhost:8080/"
        },
        "outputId": "5e41d926-6bc6-46fe-886f-985bda74c7b7"
      },
      "outputs": [
        {
          "output_type": "stream",
          "name": "stdout",
          "text": [
            "5\n"
          ]
        }
      ],
      "source": [
        "# write your code here\n",
        "list = [1, 2, 3, 4, 5]\n",
        "count = 0\n",
        "for item in list:\n",
        "    count += 1\n",
        "print(count)"
      ],
      "id": "zDB8NF_XfyVX"
    },
    {
      "cell_type": "markdown",
      "metadata": {
        "id": "PJjb0FSafyVX"
      },
      "source": [
        "### List Q18\n",
        "\n",
        "**Problem:** Slice a list to get the first 5 elements.\n",
        "\n",
        "**Expected answer should look like (example):**\n",
        "```\n",
        "lst[:5] -> first five elements\n",
        "```"
      ],
      "id": "PJjb0FSafyVX"
    },
    {
      "cell_type": "code",
      "execution_count": null,
      "metadata": {
        "id": "Hgf3_8IcfyVX",
        "colab": {
          "base_uri": "https://localhost:8080/"
        },
        "outputId": "81908319-1cc0-496e-be84-8f2c464d480f"
      },
      "outputs": [
        {
          "output_type": "stream",
          "name": "stdout",
          "text": [
            "[1, 2, 3, 4, 5]\n"
          ]
        }
      ],
      "source": [
        "# write your code here\n",
        "list = [1, 2, 3, 4, 5, 6, 7, 8, 9, 10]\n",
        "print(list[:5])"
      ],
      "id": "Hgf3_8IcfyVX"
    },
    {
      "cell_type": "markdown",
      "metadata": {
        "id": "vy6IHVyxfyVX"
      },
      "source": [
        "### List Q19\n",
        "\n",
        "**Problem:** Reverse a list using slicing.\n",
        "\n",
        "**Expected answer should look like (example):**\n",
        "```\n",
        "reversed_list  # lst[::-1]\n",
        "```"
      ],
      "id": "vy6IHVyxfyVX"
    },
    {
      "cell_type": "code",
      "execution_count": null,
      "metadata": {
        "id": "-GzdbhQzfyVX",
        "colab": {
          "base_uri": "https://localhost:8080/"
        },
        "outputId": "698a52a3-f6c5-4033-9581-2d56b533c1c3"
      },
      "outputs": [
        {
          "output_type": "stream",
          "name": "stdout",
          "text": [
            "[5, 4, 3, 2, 1]\n"
          ]
        }
      ],
      "source": [
        "# write your code here\n",
        "list = [1, 2, 3, 4, 5]\n",
        "print(list[::-1])"
      ],
      "id": "-GzdbhQzfyVX"
    },
    {
      "cell_type": "markdown",
      "metadata": {
        "id": "HrmHD5tHfyVb"
      },
      "source": [
        "### List Q20\n",
        "\n",
        "**Problem:** Check if an element exists in a list using `in`.\n",
        "\n",
        "**Expected answer should look like (example):**\n",
        "```\n",
        "True/False\n",
        "```"
      ],
      "id": "HrmHD5tHfyVb"
    },
    {
      "cell_type": "code",
      "execution_count": null,
      "metadata": {
        "id": "j83Skl7sfyVb",
        "colab": {
          "base_uri": "https://localhost:8080/"
        },
        "outputId": "df1ffd15-c997-4800-b474-9ffa2e4a581a"
      },
      "outputs": [
        {
          "output_type": "stream",
          "name": "stdout",
          "text": [
            "True\n"
          ]
        }
      ],
      "source": [
        "# write your code here\n",
        "list = [1, 2, 3, 4, 5]\n",
        "print(3 in list)"
      ],
      "id": "j83Skl7sfyVb"
    },
    {
      "cell_type": "markdown",
      "metadata": {
        "id": "K51fd9txfyVb"
      },
      "source": [
        "### List Q21\n",
        "\n",
        "**Problem:** Concatenate two lists using the `+` operator.\n",
        "\n",
        "**Expected answer should look like (example):**\n",
        "```\n",
        "[combined elements]\n",
        "```"
      ],
      "id": "K51fd9txfyVb"
    },
    {
      "cell_type": "code",
      "execution_count": null,
      "metadata": {
        "id": "VjBkHE1WfyVb",
        "colab": {
          "base_uri": "https://localhost:8080/"
        },
        "outputId": "9b6bf2a6-4018-452e-cac4-501acec3fed4"
      },
      "outputs": [
        {
          "output_type": "stream",
          "name": "stdout",
          "text": [
            "[1, 2, 3, 4, 5, 6]\n"
          ]
        }
      ],
      "source": [
        "# write your code here\n",
        "list1 = [1, 2, 3]\n",
        "list2 = [4, 5, 6]\n",
        "print(list1 + list2)"
      ],
      "id": "VjBkHE1WfyVb"
    },
    {
      "cell_type": "markdown",
      "metadata": {
        "id": "UrDqHcRPfyVb"
      },
      "source": [
        "### List Q22\n",
        "\n",
        "**Problem:** Find the sum of all elements in a list.\n",
        "\n",
        "**Expected answer should look like (example):**\n",
        "```\n",
        "numeric_sum\n",
        "```"
      ],
      "id": "UrDqHcRPfyVb"
    },
    {
      "cell_type": "code",
      "execution_count": null,
      "metadata": {
        "id": "ngMHgBd_fyVb",
        "colab": {
          "base_uri": "https://localhost:8080/"
        },
        "outputId": "f83ff4c1-cebf-4747-bd4d-6db17376de13"
      },
      "outputs": [
        {
          "output_type": "stream",
          "name": "stdout",
          "text": [
            "15\n"
          ]
        }
      ],
      "source": [
        "# write your code here\n",
        "list = [1, 2, 3, 4, 5]\n",
        "print(sum(list))"
      ],
      "id": "ngMHgBd_fyVb"
    },
    {
      "cell_type": "markdown",
      "metadata": {
        "id": "wSQRcLcNfyVb"
      },
      "source": [
        "### List Q23\n",
        "\n",
        "**Problem:** Use list comprehension to generate a list of odd numbers from 1 to 10.\n",
        "\n",
        "**Expected answer should look like (example):**\n",
        "```\n",
        "[1, 3, 5, 7, 9]\n",
        "```"
      ],
      "id": "wSQRcLcNfyVb"
    },
    {
      "cell_type": "code",
      "execution_count": null,
      "metadata": {
        "id": "6aBwuaj2fyVc",
        "colab": {
          "base_uri": "https://localhost:8080/"
        },
        "outputId": "8bbaf1a9-ff71-4e20-8684-dcb71bf2cd08"
      },
      "outputs": [
        {
          "output_type": "stream",
          "name": "stdout",
          "text": [
            "[1, 3, 5, 7, 9]\n"
          ]
        }
      ],
      "source": [
        "# write your code here\n",
        "list = [1,2,3,4,5,6,7,8,9,10]\n",
        "print([item for item in list if item % 2 != 0])\n"
      ],
      "id": "6aBwuaj2fyVc"
    },
    {
      "cell_type": "markdown",
      "metadata": {
        "id": "IQEJlGtWfyVc"
      },
      "source": [
        "### List Q24\n",
        "\n",
        "**Problem:** Convert a list with duplicate elements into a set to remove duplicates.\n",
        "\n",
        "**Expected answer should look like (example):**\n",
        "```\n",
        "{unique_elements}\n",
        "```"
      ],
      "id": "IQEJlGtWfyVc"
    },
    {
      "cell_type": "code",
      "execution_count": null,
      "metadata": {
        "id": "2L_StV1tfyVc",
        "colab": {
          "base_uri": "https://localhost:8080/"
        },
        "outputId": "acb06dac-e35b-40cb-d5f7-8a1da6e38cc1"
      },
      "outputs": [
        {
          "output_type": "stream",
          "name": "stdout",
          "text": [
            "{1, 2, 3, 4, 5}\n"
          ]
        }
      ],
      "source": [
        "# write your code here\n",
        "list = [1, 2, 2, 3, 4, 4, 5]\n",
        "print(set(list))"
      ],
      "id": "2L_StV1tfyVc"
    },
    {
      "cell_type": "markdown",
      "metadata": {
        "id": "EELV4nHgfyVc"
      },
      "source": [
        "### List Q25\n",
        "\n",
        "**Problem:** Convert a string to a list of its characters.\n",
        "\n",
        "**Expected answer should look like (example):**\n",
        "```\n",
        "['h','e','l','l','o']\n",
        "```"
      ],
      "id": "EELV4nHgfyVc"
    },
    {
      "cell_type": "code",
      "execution_count": null,
      "metadata": {
        "id": "RtuvzGP7fyVc",
        "colab": {
          "base_uri": "https://localhost:8080/",
          "height": 176
        },
        "outputId": "eca26999-dc3b-4f34-f285-c8be14df7ece"
      },
      "outputs": [
        {
          "output_type": "error",
          "ename": "TypeError",
          "evalue": "'list' object is not callable",
          "traceback": [
            "\u001b[0;31m---------------------------------------------------------------------------\u001b[0m",
            "\u001b[0;31mTypeError\u001b[0m                                 Traceback (most recent call last)",
            "\u001b[0;32m/tmp/ipython-input-3081764887.py\u001b[0m in \u001b[0;36m<cell line: 0>\u001b[0;34m()\u001b[0m\n\u001b[1;32m      1\u001b[0m \u001b[0;31m# write your code here\u001b[0m\u001b[0;34m\u001b[0m\u001b[0;34m\u001b[0m\u001b[0m\n\u001b[1;32m      2\u001b[0m \u001b[0mstring\u001b[0m \u001b[0;34m=\u001b[0m \u001b[0;34m\"hello\"\u001b[0m\u001b[0;34m\u001b[0m\u001b[0;34m\u001b[0m\u001b[0m\n\u001b[0;32m----> 3\u001b[0;31m \u001b[0mprint\u001b[0m\u001b[0;34m(\u001b[0m\u001b[0mlist\u001b[0m\u001b[0;34m(\u001b[0m\u001b[0mstring\u001b[0m\u001b[0;34m)\u001b[0m\u001b[0;34m)\u001b[0m\u001b[0;34m\u001b[0m\u001b[0;34m\u001b[0m\u001b[0m\n\u001b[0m",
            "\u001b[0;31mTypeError\u001b[0m: 'list' object is not callable"
          ]
        }
      ],
      "source": [
        "# write your code here\n",
        "string = \"hello\"\n",
        "print((string))"
      ],
      "id": "RtuvzGP7fyVc"
    },
    {
      "cell_type": "markdown",
      "metadata": {
        "id": "7h2II8C9fyVc"
      },
      "source": [
        "### List Q26\n",
        "\n",
        "**Problem:** Multiply all items in a list using a loop.\n",
        "\n",
        "**Expected answer should look like (example):**\n",
        "```\n",
        "product_value\n",
        "```"
      ],
      "id": "7h2II8C9fyVc"
    },
    {
      "cell_type": "code",
      "execution_count": null,
      "metadata": {
        "id": "JvKxVBchfyVc",
        "colab": {
          "base_uri": "https://localhost:8080/"
        },
        "outputId": "1a155b51-5414-43c3-b0f6-a5e6bb2c8667"
      },
      "outputs": [
        {
          "output_type": "stream",
          "name": "stdout",
          "text": [
            "120\n"
          ]
        }
      ],
      "source": [
        "# write your code here\n",
        "list = [1, 2, 3, 4, 5]\n",
        "product = 1\n",
        "for item in list:\n",
        "    product *= item\n",
        "print(product)"
      ],
      "id": "JvKxVBchfyVc"
    },
    {
      "cell_type": "markdown",
      "metadata": {
        "id": "Na-zJ1YdfyVc"
      },
      "source": [
        "### List Q27\n",
        "\n",
        "**Problem:** Sort a list of numbers in ascending order.\n",
        "\n",
        "**Expected answer should look like (example):**\n",
        "```\n",
        "[sorted numbers asc]\n",
        "```"
      ],
      "id": "Na-zJ1YdfyVc"
    },
    {
      "cell_type": "code",
      "execution_count": null,
      "metadata": {
        "id": "DFe5IEEAfyVc",
        "colab": {
          "base_uri": "https://localhost:8080/"
        },
        "outputId": "b7f338ec-4ccf-4d1a-c22c-be4505292f1f"
      },
      "outputs": [
        {
          "output_type": "stream",
          "name": "stdout",
          "text": [
            "[1, 2, 3, 4, 5]\n"
          ]
        }
      ],
      "source": [
        "# write your code here\n",
        "list = [5, 3, 2, 4, 1]\n",
        "list.sort()\n",
        "print(list)"
      ],
      "id": "DFe5IEEAfyVc"
    },
    {
      "cell_type": "markdown",
      "metadata": {
        "id": "qZW5tg5rfyVc"
      },
      "source": [
        "### List Q28\n",
        "\n",
        "**Problem:** Clear all elements from a list using `clear()`.\n",
        "\n",
        "**Expected answer should look like (example):**\n",
        "```\n",
        "[]\n",
        "```"
      ],
      "id": "qZW5tg5rfyVc"
    },
    {
      "cell_type": "code",
      "execution_count": null,
      "metadata": {
        "id": "jso3gUtvfyVc",
        "colab": {
          "base_uri": "https://localhost:8080/"
        },
        "outputId": "8899067a-21ce-4301-d6d8-eded64fb5b6b"
      },
      "outputs": [
        {
          "output_type": "stream",
          "name": "stdout",
          "text": [
            "[]\n"
          ]
        }
      ],
      "source": [
        "# write your code here\n",
        "list = [1, 2, 3, 4, 5]\n",
        "list.clear()\n",
        "print(list)"
      ],
      "id": "jso3gUtvfyVc"
    },
    {
      "cell_type": "markdown",
      "metadata": {
        "id": "G751txAVfyVc"
      },
      "source": [
        "### List Q29\n",
        "\n",
        "**Problem:** Use a `while` loop to iterate through a list.\n",
        "\n",
        "**Expected answer should look like (example):**\n",
        "```\n",
        "each element printed/processed\n",
        "```"
      ],
      "id": "G751txAVfyVc"
    },
    {
      "cell_type": "code",
      "execution_count": null,
      "metadata": {
        "id": "VVnSkIvPfyVd",
        "colab": {
          "base_uri": "https://localhost:8080/"
        },
        "outputId": "33a1968b-2c29-4ff2-8451-1462f63f89d7"
      },
      "outputs": [
        {
          "output_type": "stream",
          "name": "stdout",
          "text": [
            "1\n",
            "2\n",
            "3\n",
            "4\n",
            "5\n"
          ]
        }
      ],
      "source": [
        "# write your code here\n",
        "list = [1, 2, 3, 4, 5]\n",
        "index = 0\n",
        "while index < len(list):\n",
        "    print(list[index])\n",
        "    index += 1"
      ],
      "id": "VVnSkIvPfyVd"
    },
    {
      "cell_type": "markdown",
      "metadata": {
        "id": "cduQw_jHfyVd"
      },
      "source": [
        "### List Q30\n",
        "\n",
        "**Problem:** Use a `for` loop with `enumerate()` to print index and value.\n",
        "\n",
        "**Expected answer should look like (example):**\n",
        "```\n",
        "index: value\n",
        "```"
      ],
      "id": "cduQw_jHfyVd"
    },
    {
      "cell_type": "code",
      "execution_count": null,
      "metadata": {
        "id": "oeZBqKEOfyVd",
        "colab": {
          "base_uri": "https://localhost:8080/"
        },
        "outputId": "86929526-89d7-4920-f6ef-978e0ae5e115"
      },
      "outputs": [
        {
          "output_type": "stream",
          "name": "stdout",
          "text": [
            "index: 0, value: 1\n",
            "index: 1, value: 2\n",
            "index: 2, value: 3\n",
            "index: 3, value: 4\n",
            "index: 4, value: 5\n"
          ]
        }
      ],
      "source": [
        "# write your code here\n",
        "list = [1, 2, 3, 4, 5]\n",
        "for index, value in enumerate(list):\n",
        "    print(f\"index: {index}, value: {value}\")"
      ],
      "id": "oeZBqKEOfyVd"
    },
    {
      "cell_type": "markdown",
      "metadata": {
        "id": "zFd9UtnbfyVd"
      },
      "source": [
        "### List Q31\n",
        "\n",
        "**Problem:** Find the index of an element in a list using `index()`.\n",
        "\n",
        "**Expected answer should look like (example):**\n",
        "```\n",
        "integer_index\n",
        "```"
      ],
      "id": "zFd9UtnbfyVd"
    },
    {
      "cell_type": "code",
      "execution_count": null,
      "metadata": {
        "id": "cPlSAo-8fyVd",
        "colab": {
          "base_uri": "https://localhost:8080/"
        },
        "outputId": "f0cff8ba-c8b3-4c4f-8148-3aaf536165a8"
      },
      "outputs": [
        {
          "output_type": "stream",
          "name": "stdout",
          "text": [
            "2\n"
          ]
        }
      ],
      "source": [
        "# write your code here\n",
        "list = [1, 2, 3, 4, 5]\n",
        "print(list.index(3))\n"
      ],
      "id": "cPlSAo-8fyVd"
    },
    {
      "cell_type": "markdown",
      "metadata": {
        "id": "gbu56yUMfyVd"
      },
      "source": [
        "### Tuples Q1\n",
        "\n",
        "**Problem:** Create a tuple with elements from 1 to 5.\n",
        "\n",
        "**Expected answer should look like (example):**\n",
        "```\n",
        "(1, 2, 3, 4, 5)\n",
        "```"
      ],
      "id": "gbu56yUMfyVd"
    },
    {
      "cell_type": "code",
      "execution_count": null,
      "metadata": {
        "id": "eO6CeCapfyVd",
        "colab": {
          "base_uri": "https://localhost:8080/"
        },
        "outputId": "c04f6011-f13d-41b2-9022-40d15091c756"
      },
      "outputs": [
        {
          "output_type": "stream",
          "name": "stdout",
          "text": [
            "(1, 2, 3, 4, 5)\n"
          ]
        }
      ],
      "source": [
        "# write your code here\n",
        "tuple = (1, 2, 3, 4, 5)\n",
        "print(tuple)"
      ],
      "id": "eO6CeCapfyVd"
    },
    {
      "cell_type": "markdown",
      "metadata": {
        "id": "bL2uXcsyfyVd"
      },
      "source": [
        "### Tuples Q2\n",
        "\n",
        "**Problem:** Access the third element in a tuple.\n",
        "\n",
        "**Expected answer should look like (example):**\n",
        "```\n",
        "value_at_index_2\n",
        "```"
      ],
      "id": "bL2uXcsyfyVd"
    },
    {
      "cell_type": "code",
      "execution_count": null,
      "metadata": {
        "id": "CcmxEwb5fyVd",
        "colab": {
          "base_uri": "https://localhost:8080/"
        },
        "outputId": "0e8150bb-121c-4100-a3a7-9542c339053d"
      },
      "outputs": [
        {
          "output_type": "stream",
          "name": "stdout",
          "text": [
            "3\n"
          ]
        }
      ],
      "source": [
        "# write your code here\n",
        "tuple = (1,2,3,4,5)\n",
        "print(tuple[2])"
      ],
      "id": "CcmxEwb5fyVd"
    },
    {
      "cell_type": "markdown",
      "metadata": {
        "id": "yVfJnjdIfyVd"
      },
      "source": [
        "### Tuples Q3\n",
        "\n",
        "**Problem:** Slice a tuple to get the last 3 elements.\n",
        "\n",
        "**Expected answer should look like (example):**\n",
        "```\n",
        "(last3,)\n",
        "```"
      ],
      "id": "yVfJnjdIfyVd"
    },
    {
      "cell_type": "code",
      "execution_count": null,
      "metadata": {
        "id": "_Flfm1X0fyVd",
        "colab": {
          "base_uri": "https://localhost:8080/"
        },
        "outputId": "7042904c-16fc-49c3-e1ae-c953f7218b70"
      },
      "outputs": [
        {
          "output_type": "stream",
          "name": "stdout",
          "text": [
            "(3, 4, 5)\n"
          ]
        }
      ],
      "source": [
        "# write your code here\n",
        "tuple = (1,2,3,4,5)\n",
        "print(tuple[2:])"
      ],
      "id": "_Flfm1X0fyVd"
    },
    {
      "cell_type": "markdown",
      "metadata": {
        "id": "qWC68fe8fyVd"
      },
      "source": [
        "### Tuples Q4\n",
        "\n",
        "**Problem:** Check if an element exists in a tuple using `in`.\n",
        "\n",
        "**Expected answer should look like (example):**\n",
        "```\n",
        "True/False\n",
        "```"
      ],
      "id": "qWC68fe8fyVd"
    },
    {
      "cell_type": "code",
      "execution_count": null,
      "metadata": {
        "id": "LBZY1QqbfyVd",
        "colab": {
          "base_uri": "https://localhost:8080/"
        },
        "outputId": "aab9d419-5592-468a-ed82-1a70f66dcae1"
      },
      "outputs": [
        {
          "output_type": "stream",
          "name": "stdout",
          "text": [
            "True\n"
          ]
        }
      ],
      "source": [
        "# write your code here\n",
        "tuple = (1,2,3,4,5)\n",
        "print(3 in tuple)"
      ],
      "id": "LBZY1QqbfyVd"
    },
    {
      "cell_type": "markdown",
      "metadata": {
        "id": "MHDJ8V3pfyVe"
      },
      "source": [
        "### Tuples Q5\n",
        "\n",
        "**Problem:** Find the index of an element in a tuple.\n",
        "\n",
        "**Expected answer should look like (example):**\n",
        "```\n",
        "integer_index\n",
        "```"
      ],
      "id": "MHDJ8V3pfyVe"
    },
    {
      "cell_type": "code",
      "execution_count": null,
      "metadata": {
        "id": "lIuu_klOfyVe",
        "colab": {
          "base_uri": "https://localhost:8080/"
        },
        "outputId": "daa2233f-820f-41cf-f7b6-3b483e02ad30"
      },
      "outputs": [
        {
          "output_type": "stream",
          "name": "stdout",
          "text": [
            "2\n"
          ]
        }
      ],
      "source": [
        "# write your code here\n",
        "tuple = (1,2,3,4,5)\n",
        "print(tuple.index(3))"
      ],
      "id": "lIuu_klOfyVe"
    },
    {
      "cell_type": "markdown",
      "metadata": {
        "id": "qdDgmuL3fyVe"
      },
      "source": [
        "### Tuples Q6\n",
        "\n",
        "**Problem:** Count the occurrences of an element in a tuple.\n",
        "\n",
        "**Expected answer should look like (example):**\n",
        "```\n",
        "count_value\n",
        "```"
      ],
      "id": "qdDgmuL3fyVe"
    },
    {
      "cell_type": "code",
      "execution_count": null,
      "metadata": {
        "id": "ZKBvIlJzfyVe",
        "colab": {
          "base_uri": "https://localhost:8080/"
        },
        "outputId": "db3fb48d-3afb-4787-ac2d-849eac347366"
      },
      "outputs": [
        {
          "output_type": "stream",
          "name": "stdout",
          "text": [
            "1\n"
          ]
        }
      ],
      "source": [
        "# write your code here\n",
        "tuple = (1,2,3,4,5)\n",
        "print(tuple.count(3))"
      ],
      "id": "ZKBvIlJzfyVe"
    },
    {
      "cell_type": "markdown",
      "metadata": {
        "id": "FphgWkIKfyVe"
      },
      "source": [
        "### Tuples Q7\n",
        "\n",
        "**Problem:** Create a nested tuple and access an element from it.\n",
        "\n",
        "**Expected answer should look like (example):**\n",
        "```\n",
        "nested_value\n",
        "```"
      ],
      "id": "FphgWkIKfyVe"
    },
    {
      "cell_type": "code",
      "execution_count": null,
      "metadata": {
        "id": "HnvdVBUNfyVe",
        "colab": {
          "base_uri": "https://localhost:8080/"
        },
        "outputId": "40969bf6-071d-4c9f-e0cd-752e00a837b2"
      },
      "outputs": [
        {
          "output_type": "stream",
          "name": "stdout",
          "text": [
            "2\n"
          ]
        }
      ],
      "source": [
        "# write your code here\n",
        "tuple = ((1,2),(3,4))\n",
        "print(tuple[0][1])"
      ],
      "id": "HnvdVBUNfyVe"
    },
    {
      "cell_type": "markdown",
      "metadata": {
        "id": "cJGrrJa3fyVe"
      },
      "source": [
        "### Tuples Q8\n",
        "\n",
        "**Problem:** Check if two tuples are equal.\n",
        "\n",
        "**Expected answer should look like (example):**\n",
        "```\n",
        "True/False\n",
        "```"
      ],
      "id": "cJGrrJa3fyVe"
    },
    {
      "cell_type": "code",
      "execution_count": null,
      "metadata": {
        "id": "yrtoIoESfyVe",
        "colab": {
          "base_uri": "https://localhost:8080/"
        },
        "outputId": "45dd0ec0-cda7-43be-dc74-cf9c65af5379"
      },
      "outputs": [
        {
          "output_type": "stream",
          "name": "stdout",
          "text": [
            "True\n"
          ]
        }
      ],
      "source": [
        "# write your code here\n",
        "tuple1 = (1,2,3)\n",
        "tuple2 = (1,2,3)\n",
        "print(tuple1 == tuple2)"
      ],
      "id": "yrtoIoESfyVe"
    },
    {
      "cell_type": "markdown",
      "metadata": {
        "id": "-LNfyhfEfyVe"
      },
      "source": [
        "### Tuples Q9\n",
        "\n",
        "**Problem:** Convert a list to a tuple.\n",
        "\n",
        "**Expected answer should look like (example):**\n",
        "```\n",
        "tuple(list)\n",
        "```"
      ],
      "id": "-LNfyhfEfyVe"
    },
    {
      "cell_type": "code",
      "execution_count": null,
      "metadata": {
        "id": "qVjr5RJFfyVe",
        "colab": {
          "base_uri": "https://localhost:8080/",
          "height": 176
        },
        "outputId": "2ab8b2c0-09bc-42a5-ada2-2b3ef0039ba1"
      },
      "outputs": [
        {
          "output_type": "error",
          "ename": "TypeError",
          "evalue": "'tuple' object is not callable",
          "traceback": [
            "\u001b[0;31m---------------------------------------------------------------------------\u001b[0m",
            "\u001b[0;31mTypeError\u001b[0m                                 Traceback (most recent call last)",
            "\u001b[0;32m/tmp/ipython-input-4060414807.py\u001b[0m in \u001b[0;36m<cell line: 0>\u001b[0;34m()\u001b[0m\n\u001b[1;32m      1\u001b[0m \u001b[0;31m# write your code here\u001b[0m\u001b[0;34m\u001b[0m\u001b[0;34m\u001b[0m\u001b[0m\n\u001b[1;32m      2\u001b[0m \u001b[0mlst\u001b[0m \u001b[0;34m=\u001b[0m \u001b[0;34m[\u001b[0m\u001b[0;36m1\u001b[0m\u001b[0;34m,\u001b[0m\u001b[0;36m2\u001b[0m\u001b[0;34m,\u001b[0m\u001b[0;36m3\u001b[0m\u001b[0;34m,\u001b[0m\u001b[0;36m4\u001b[0m\u001b[0;34m,\u001b[0m\u001b[0;36m5\u001b[0m\u001b[0;34m]\u001b[0m\u001b[0;34m\u001b[0m\u001b[0;34m\u001b[0m\u001b[0m\n\u001b[0;32m----> 3\u001b[0;31m \u001b[0mprint\u001b[0m\u001b[0;34m(\u001b[0m\u001b[0mtuple\u001b[0m\u001b[0;34m(\u001b[0m\u001b[0mlist\u001b[0m\u001b[0;34m)\u001b[0m\u001b[0;34m)\u001b[0m\u001b[0;34m\u001b[0m\u001b[0;34m\u001b[0m\u001b[0m\n\u001b[0m",
            "\u001b[0;31mTypeError\u001b[0m: 'tuple' object is not callable"
          ]
        }
      ],
      "source": [
        "# write your code here\n",
        "lst = [1,2,3,4,5]\n",
        "print(tuple(list))"
      ],
      "id": "qVjr5RJFfyVe"
    },
    {
      "cell_type": "markdown",
      "metadata": {
        "id": "2z6vK3lcfyVe"
      },
      "source": [
        "### Tuples Q10\n",
        "\n",
        "**Problem:** Create a tuple of integers and find its sum.\n",
        "\n",
        "**Expected answer should look like (example):**\n",
        "```\n",
        "sum_value\n",
        "```"
      ],
      "id": "2z6vK3lcfyVe"
    },
    {
      "cell_type": "code",
      "execution_count": null,
      "metadata": {
        "id": "2wvATIXwfyVe",
        "colab": {
          "base_uri": "https://localhost:8080/"
        },
        "outputId": "2565d218-9bbe-45fe-8838-2a58845e1453"
      },
      "outputs": [
        {
          "output_type": "stream",
          "name": "stdout",
          "text": [
            "15\n"
          ]
        }
      ],
      "source": [
        "# write your code here\n",
        "tuple = (1,2,3,4,5)\n",
        "print(sum(tuple))"
      ],
      "id": "2wvATIXwfyVe"
    },
    {
      "cell_type": "markdown",
      "metadata": {
        "id": "AL5_V1DRfyVe"
      },
      "source": [
        "### Tuples Q11\n",
        "\n",
        "**Problem:** Create a tuple using the `tuple()` constructor.\n",
        "\n",
        "**Expected answer should look like (example):**\n",
        "```\n",
        "tuple_from_iterable\n",
        "```"
      ],
      "id": "AL5_V1DRfyVe"
    },
    {
      "cell_type": "code",
      "execution_count": null,
      "metadata": {
        "id": "J3H2rnqifyVf",
        "colab": {
          "base_uri": "https://localhost:8080/",
          "height": 176
        },
        "outputId": "5712117c-f09c-433d-de02-c1b34068aae0"
      },
      "outputs": [
        {
          "output_type": "error",
          "ename": "TypeError",
          "evalue": "'tuple' object is not callable",
          "traceback": [
            "\u001b[0;31m---------------------------------------------------------------------------\u001b[0m",
            "\u001b[0;31mTypeError\u001b[0m                                 Traceback (most recent call last)",
            "\u001b[0;32m/tmp/ipython-input-519140131.py\u001b[0m in \u001b[0;36m<cell line: 0>\u001b[0;34m()\u001b[0m\n\u001b[1;32m      1\u001b[0m \u001b[0;31m# write your code here\u001b[0m\u001b[0;34m\u001b[0m\u001b[0;34m\u001b[0m\u001b[0m\n\u001b[1;32m      2\u001b[0m \u001b[0mlst\u001b[0m \u001b[0;34m=\u001b[0m \u001b[0;34m[\u001b[0m\u001b[0;36m1\u001b[0m\u001b[0;34m,\u001b[0m\u001b[0;36m2\u001b[0m\u001b[0;34m,\u001b[0m\u001b[0;36m3\u001b[0m\u001b[0;34m,\u001b[0m\u001b[0;36m4\u001b[0m\u001b[0;34m,\u001b[0m\u001b[0;36m5\u001b[0m\u001b[0;34m]\u001b[0m\u001b[0;34m\u001b[0m\u001b[0;34m\u001b[0m\u001b[0m\n\u001b[0;32m----> 3\u001b[0;31m \u001b[0mprint\u001b[0m\u001b[0;34m(\u001b[0m\u001b[0mtuple\u001b[0m\u001b[0;34m(\u001b[0m\u001b[0mlst\u001b[0m\u001b[0;34m)\u001b[0m\u001b[0;34m)\u001b[0m\u001b[0;34m\u001b[0m\u001b[0;34m\u001b[0m\u001b[0m\n\u001b[0m",
            "\u001b[0;31mTypeError\u001b[0m: 'tuple' object is not callable"
          ]
        }
      ],
      "source": [
        "# write your code here\n",
        "lst = [1,2,3,4,5]\n",
        "print(tuple(lst))"
      ],
      "id": "J3H2rnqifyVf"
    },
    {
      "cell_type": "markdown",
      "metadata": {
        "id": "UZHJ8sV2fyVf"
      },
      "source": [
        "### Tuples Q12\n",
        "\n",
        "**Problem:** Use a `for` loop to iterate through a tuple.\n",
        "\n",
        "**Expected answer should look like (example):**\n",
        "```\n",
        "elements printed/processed\n",
        "```"
      ],
      "id": "UZHJ8sV2fyVf"
    },
    {
      "cell_type": "code",
      "execution_count": null,
      "metadata": {
        "id": "hWTzzxbQfyVf",
        "colab": {
          "base_uri": "https://localhost:8080/"
        },
        "outputId": "de0d7b92-eed4-434a-d2a7-095e9c8a317d"
      },
      "outputs": [
        {
          "output_type": "stream",
          "name": "stdout",
          "text": [
            "1\n",
            "2\n",
            "3\n",
            "4\n",
            "5\n"
          ]
        }
      ],
      "source": [
        "# write your code here\n",
        "tuple = (1,2,3,4,5)\n",
        "for item in tuple:\n",
        "    print(item)"
      ],
      "id": "hWTzzxbQfyVf"
    },
    {
      "cell_type": "markdown",
      "metadata": {
        "id": "DrMe5TzIfyVf"
      },
      "source": [
        "### Tuples Q13\n",
        "\n",
        "**Problem:** Try modifying a tuple element and handle the error.\n",
        "\n",
        "**Expected answer should look like (example):**\n",
        "```\n",
        "TypeError handled\n",
        "```"
      ],
      "id": "DrMe5TzIfyVf"
    },
    {
      "cell_type": "code",
      "execution_count": null,
      "metadata": {
        "id": "lKiryIUUfyVf",
        "colab": {
          "base_uri": "https://localhost:8080/"
        },
        "outputId": "63349a00-6e84-4f58-edf9-8e15358e48f3"
      },
      "outputs": [
        {
          "output_type": "stream",
          "name": "stdout",
          "text": [
            "TypeError handled\n"
          ]
        }
      ],
      "source": [
        "# write your code here\n",
        "tuple = (1,2,3,4,5)\n",
        "try:\n",
        "    tuple[0] = 6\n",
        "except TypeError:\n",
        "    print(\"TypeError handled\")"
      ],
      "id": "lKiryIUUfyVf"
    },
    {
      "cell_type": "markdown",
      "metadata": {
        "id": "YhvKphyXfyVf"
      },
      "source": [
        "### Tuples Q14\n",
        "\n",
        "**Problem:** Unpack a tuple into individual variables.\n",
        "\n",
        "**Expected answer should look like (example):**\n",
        "```\n",
        "a b c ... assigned\n",
        "```"
      ],
      "id": "YhvKphyXfyVf"
    },
    {
      "cell_type": "code",
      "execution_count": null,
      "metadata": {
        "id": "OWtwQmw3fyVf",
        "colab": {
          "base_uri": "https://localhost:8080/"
        },
        "outputId": "838cca17-5e0c-48f3-b38e-745d5dff876d"
      },
      "outputs": [
        {
          "output_type": "stream",
          "name": "stdout",
          "text": [
            "1 2 3 4 5\n"
          ]
        }
      ],
      "source": [
        "# write your code here\n",
        "tuple = (1,2,3,4,5)\n",
        "a,b,c,d,e = tuple\n",
        "print(a,b,c,d,e)"
      ],
      "id": "OWtwQmw3fyVf"
    },
    {
      "cell_type": "markdown",
      "metadata": {
        "id": "MkF0atcFfyVf"
      },
      "source": [
        "### Tuples Q15\n",
        "\n",
        "**Problem:** Use a tuple inside a dictionary as a key.\n",
        "\n",
        "**Expected answer should look like (example):**\n",
        "```\n",
        "{(1,2): 'value'}\n",
        "```"
      ],
      "id": "MkF0atcFfyVf"
    },
    {
      "cell_type": "code",
      "execution_count": null,
      "metadata": {
        "id": "6C4iwP6ZfyVf",
        "colab": {
          "base_uri": "https://localhost:8080/"
        },
        "outputId": "b55ceb30-2ef4-4588-f1c7-558f724bbf05"
      },
      "outputs": [
        {
          "output_type": "stream",
          "name": "stdout",
          "text": [
            "{(1, 2): 'value'}\n"
          ]
        }
      ],
      "source": [
        "# write your code here\n",
        "tuple = (1,2)\n",
        "dictionary = {tuple: 'value'}\n",
        "print(dictionary)"
      ],
      "id": "6C4iwP6ZfyVf"
    },
    {
      "cell_type": "markdown",
      "metadata": {
        "id": "oqBDYfK6fyVf"
      },
      "source": [
        "### Tuples Q16\n",
        "\n",
        "**Problem:** Find the length of a tuple using `len()`.\n",
        "\n",
        "**Expected answer should look like (example):**\n",
        "```\n",
        "length_value\n",
        "```"
      ],
      "id": "oqBDYfK6fyVf"
    },
    {
      "cell_type": "code",
      "execution_count": null,
      "metadata": {
        "id": "fcp9Leg2fyVf",
        "colab": {
          "base_uri": "https://localhost:8080/"
        },
        "outputId": "eedab040-fd5a-4027-9837-f5d1a14d304b"
      },
      "outputs": [
        {
          "output_type": "stream",
          "name": "stdout",
          "text": [
            "5\n"
          ]
        }
      ],
      "source": [
        "# write your code here\n",
        "tuple = (1,2,3,4,5)\n",
        "print(len(tuple))"
      ],
      "id": "fcp9Leg2fyVf"
    },
    {
      "cell_type": "markdown",
      "metadata": {
        "id": "azW0Z5FRfyVf"
      },
      "source": [
        "### Tuples Q17\n",
        "\n",
        "**Problem:** Compare two tuples using relational operators.\n",
        "\n",
        "**Expected answer should look like (example):**\n",
        "```\n",
        "True/False based on lexicographic\n",
        "```"
      ],
      "id": "azW0Z5FRfyVf"
    },
    {
      "cell_type": "code",
      "execution_count": null,
      "metadata": {
        "id": "DxFDZ_FPfyVg",
        "colab": {
          "base_uri": "https://localhost:8080/"
        },
        "outputId": "d86222ef-0735-46d4-d7e6-b396a9422076"
      },
      "outputs": [
        {
          "output_type": "stream",
          "name": "stdout",
          "text": [
            "True\n"
          ]
        }
      ],
      "source": [
        "# write your code here\n",
        "tuple1 = (1,2,3)\n",
        "tuple2 = (1,2,4)\n",
        "print(tuple1 < tuple2)"
      ],
      "id": "DxFDZ_FPfyVg"
    },
    {
      "cell_type": "markdown",
      "metadata": {
        "id": "vyvlq4bWfyVg"
      },
      "source": [
        "### Tuples Q18\n",
        "\n",
        "**Problem:** Use `max()` and `min()` with a tuple.\n",
        "\n",
        "**Expected answer should look like (example):**\n",
        "```\n",
        "max_value, min_value\n",
        "```"
      ],
      "id": "vyvlq4bWfyVg"
    },
    {
      "cell_type": "code",
      "execution_count": null,
      "metadata": {
        "id": "62KgdnSAfyVg",
        "colab": {
          "base_uri": "https://localhost:8080/"
        },
        "outputId": "b2c03335-cca5-43e7-9463-1bb2666bf7d7"
      },
      "outputs": [
        {
          "output_type": "stream",
          "name": "stdout",
          "text": [
            "5\n",
            "1\n"
          ]
        }
      ],
      "source": [
        "# write your code here\n",
        "tuple = (1,2,3,4,5)\n",
        "print(max(tuple))\n",
        "print(min(tuple))"
      ],
      "id": "62KgdnSAfyVg"
    },
    {
      "cell_type": "markdown",
      "metadata": {
        "id": "HEENKlfkfyVg"
      },
      "source": [
        "### Tuples Q19\n",
        "\n",
        "**Problem:** Use a tuple inside another tuple and access nested values.\n",
        "\n",
        "**Expected answer should look like (example):**\n",
        "```\n",
        "nested_value\n",
        "```"
      ],
      "id": "HEENKlfkfyVg"
    },
    {
      "cell_type": "code",
      "execution_count": null,
      "metadata": {
        "id": "URl8HuYFfyVg",
        "colab": {
          "base_uri": "https://localhost:8080/"
        },
        "outputId": "09654e6b-12b7-4974-8f00-0ba80ffbf68a"
      },
      "outputs": [
        {
          "output_type": "stream",
          "name": "stdout",
          "text": [
            "2\n"
          ]
        }
      ],
      "source": [
        "# write your code here\n",
        "tuple = ((1,2),(3,4))\n",
        "print(tuple[0][1])"
      ],
      "id": "URl8HuYFfyVg"
    },
    {
      "cell_type": "markdown",
      "metadata": {
        "id": "UzcLW_RPfyVg"
      },
      "source": [
        "### Tuples Q20\n",
        "\n",
        "**Problem:** Check the memory size of a tuple versus a list using `sys.getsizeof()`.\n",
        "\n",
        "**Expected answer should look like (example):**\n",
        "```\n",
        "e.g., tuple_size < list_size (often)\n",
        "```"
      ],
      "id": "UzcLW_RPfyVg"
    },
    {
      "cell_type": "code",
      "execution_count": null,
      "metadata": {
        "id": "3CBhEviofyVg"
      },
      "outputs": [],
      "source": [
        "# write your code here\n",
        "\n",
        "\n"
      ],
      "id": "3CBhEviofyVg"
    },
    {
      "cell_type": "markdown",
      "metadata": {
        "id": "fd4yFydZfyVg"
      },
      "source": [
        "### Sets Q1\n",
        "\n",
        "**Problem:** Create a set with integers from 10 to 15.\n",
        "\n",
        "**Expected answer should look like (example):**\n",
        "```\n",
        "{10, 11, 12, 13, 14, 15} (order may vary)\n",
        "```"
      ],
      "id": "fd4yFydZfyVg"
    },
    {
      "cell_type": "code",
      "execution_count": null,
      "metadata": {
        "id": "5qqGXfs0fyVg",
        "colab": {
          "base_uri": "https://localhost:8080/"
        },
        "outputId": "17dcdd6d-6325-4c57-e4b3-2dc8a575a4ce"
      },
      "outputs": [
        {
          "output_type": "stream",
          "name": "stdout",
          "text": [
            "{10, 11, 12, 13, 14, 15}\n"
          ]
        }
      ],
      "source": [
        "# write your code here\n",
        "set = {10,11,12,13,14,15}\n",
        "print(set)"
      ],
      "id": "5qqGXfs0fyVg"
    },
    {
      "cell_type": "markdown",
      "metadata": {
        "id": "0iSowp2CfyVg"
      },
      "source": [
        "### Sets Q2\n",
        "\n",
        "**Problem:** Add multiple elements to a set using `update()`.\n",
        "\n",
        "**Expected answer should look like (example):**\n",
        "```\n",
        "{...includes new elements...}\n",
        "```"
      ],
      "id": "0iSowp2CfyVg"
    },
    {
      "cell_type": "code",
      "execution_count": null,
      "metadata": {
        "id": "Z-upfIXtfyVg",
        "colab": {
          "base_uri": "https://localhost:8080/"
        },
        "outputId": "319aa824-f781-4c43-8260-fe4a589f055e"
      },
      "outputs": [
        {
          "output_type": "stream",
          "name": "stdout",
          "text": [
            "{1, 2, 3, 4, 5, 6, 7, 8}\n"
          ]
        }
      ],
      "source": [
        "# write your code here\n",
        "set = {1,2,3,4,5}\n",
        "set.update([6,7,8])\n",
        "print(set)\n"
      ],
      "id": "Z-upfIXtfyVg"
    },
    {
      "cell_type": "markdown",
      "metadata": {
        "id": "zAaYvSjvfyVg"
      },
      "source": [
        "### Sets Q3\n",
        "\n",
        "**Problem:** Check if a set is a subset of another set.\n",
        "\n",
        "**Expected answer should look like (example):**\n",
        "```\n",
        "True/False\n",
        "```"
      ],
      "id": "zAaYvSjvfyVg"
    },
    {
      "cell_type": "code",
      "execution_count": null,
      "metadata": {
        "id": "XNQuqIzUfyVg",
        "colab": {
          "base_uri": "https://localhost:8080/"
        },
        "outputId": "b20135e8-5579-4e07-b326-5f7386f9881e"
      },
      "outputs": [
        {
          "output_type": "stream",
          "name": "stdout",
          "text": [
            "True\n"
          ]
        }
      ],
      "source": [
        "# write your code here\n",
        "set1 = {1,2,3,4,5}\n",
        "set2 = {1,2,3}\n",
        "print(set2.issubset(set1))"
      ],
      "id": "XNQuqIzUfyVg"
    },
    {
      "cell_type": "markdown",
      "metadata": {
        "id": "c0GUHapUfyVg"
      },
      "source": [
        "### Sets Q4\n",
        "\n",
        "**Problem:** Check if a set is a superset of another set.\n",
        "\n",
        "**Expected answer should look like (example):**\n",
        "```\n",
        "True/False\n",
        "```"
      ],
      "id": "c0GUHapUfyVg"
    },
    {
      "cell_type": "code",
      "execution_count": null,
      "metadata": {
        "id": "OUKyM0_ufyVg",
        "colab": {
          "base_uri": "https://localhost:8080/",
          "height": 176
        },
        "outputId": "f54314f9-961b-44fa-f179-55f69153e3cc"
      },
      "outputs": [
        {
          "output_type": "error",
          "ename": "AttributeError",
          "evalue": "'set' object has no attribute 'superset'",
          "traceback": [
            "\u001b[0;31m---------------------------------------------------------------------------\u001b[0m",
            "\u001b[0;31mAttributeError\u001b[0m                            Traceback (most recent call last)",
            "\u001b[0;32m/tmp/ipython-input-614250769.py\u001b[0m in \u001b[0;36m<cell line: 0>\u001b[0;34m()\u001b[0m\n\u001b[1;32m      2\u001b[0m \u001b[0mset1\u001b[0m \u001b[0;34m=\u001b[0m \u001b[0;34m{\u001b[0m\u001b[0;36m1\u001b[0m\u001b[0;34m,\u001b[0m\u001b[0;36m2\u001b[0m\u001b[0;34m,\u001b[0m\u001b[0;36m3\u001b[0m\u001b[0;34m,\u001b[0m\u001b[0;36m4\u001b[0m\u001b[0;34m,\u001b[0m\u001b[0;36m5\u001b[0m\u001b[0;34m}\u001b[0m\u001b[0;34m\u001b[0m\u001b[0;34m\u001b[0m\u001b[0m\n\u001b[1;32m      3\u001b[0m \u001b[0mset2\u001b[0m \u001b[0;34m=\u001b[0m \u001b[0;34m{\u001b[0m\u001b[0;36m1\u001b[0m\u001b[0;34m,\u001b[0m\u001b[0;36m3\u001b[0m\u001b[0;34m,\u001b[0m\u001b[0;36m5\u001b[0m\u001b[0;34m}\u001b[0m\u001b[0;34m\u001b[0m\u001b[0;34m\u001b[0m\u001b[0m\n\u001b[0;32m----> 4\u001b[0;31m \u001b[0mprint\u001b[0m\u001b[0;34m(\u001b[0m\u001b[0mset2\u001b[0m\u001b[0;34m.\u001b[0m\u001b[0msuperset\u001b[0m\u001b[0;34m(\u001b[0m\u001b[0mset1\u001b[0m\u001b[0;34m)\u001b[0m\u001b[0;34m)\u001b[0m\u001b[0;34m\u001b[0m\u001b[0;34m\u001b[0m\u001b[0m\n\u001b[0m",
            "\u001b[0;31mAttributeError\u001b[0m: 'set' object has no attribute 'superset'"
          ]
        }
      ],
      "source": [
        "# write your code here\n",
        "set1 = {1,2,3,4,5}\n",
        "set2 = {1,3,5}\n",
        "print(set2.superset(set1))\n"
      ],
      "id": "OUKyM0_ufyVg"
    },
    {
      "cell_type": "markdown",
      "metadata": {
        "id": "53FrXj6NfyVh"
      },
      "source": [
        "### Sets Q5\n",
        "\n",
        "**Problem:** Find the difference between two sets.\n",
        "\n",
        "**Expected answer should look like (example):**\n",
        "```\n",
        "A - B set\n",
        "```"
      ],
      "id": "53FrXj6NfyVh"
    },
    {
      "cell_type": "code",
      "execution_count": null,
      "metadata": {
        "id": "SbID0wZ3fyVh",
        "colab": {
          "base_uri": "https://localhost:8080/"
        },
        "outputId": "5e9adeeb-01a2-4c3f-c32d-1508f7ce210b"
      },
      "outputs": [
        {
          "output_type": "stream",
          "name": "stdout",
          "text": [
            "{2, 4}\n"
          ]
        }
      ],
      "source": [
        "# write your code here\n",
        "set1 = {1,2,3,4,5}\n",
        "set2 = {1,3,5}\n",
        "print(set1 - set2)"
      ],
      "id": "SbID0wZ3fyVh"
    },
    {
      "cell_type": "markdown",
      "metadata": {
        "id": "iC-Pvc3TfyVh"
      },
      "source": [
        "### Sets Q6\n",
        "\n",
        "**Problem:** Create a set of multiples of 3 from 1 to 15.\n",
        "\n",
        "**Expected answer should look like (example):**\n",
        "```\n",
        "{3, 6, 9, 12, 15}\n",
        "```"
      ],
      "id": "iC-Pvc3TfyVh"
    },
    {
      "cell_type": "code",
      "execution_count": null,
      "metadata": {
        "id": "mgIRy9RvfyVh",
        "colab": {
          "base_uri": "https://localhost:8080/",
          "height": 211
        },
        "outputId": "45062536-ca01-4ca9-997a-9470ebbd799c"
      },
      "outputs": [
        {
          "output_type": "error",
          "ename": "TypeError",
          "evalue": "'set' object is not callable",
          "traceback": [
            "\u001b[0;31m---------------------------------------------------------------------------\u001b[0m",
            "\u001b[0;31mTypeError\u001b[0m                                 Traceback (most recent call last)",
            "\u001b[0;32m/tmp/ipython-input-1383582298.py\u001b[0m in \u001b[0;36m<cell line: 0>\u001b[0;34m()\u001b[0m\n\u001b[1;32m      1\u001b[0m \u001b[0;31m# write your code here\u001b[0m\u001b[0;34m\u001b[0m\u001b[0;34m\u001b[0m\u001b[0m\n\u001b[0;32m----> 2\u001b[0;31m \u001b[0mst\u001b[0m \u001b[0;34m=\u001b[0m \u001b[0mset\u001b[0m\u001b[0;34m(\u001b[0m\u001b[0;34m)\u001b[0m\u001b[0;34m\u001b[0m\u001b[0;34m\u001b[0m\u001b[0m\n\u001b[0m\u001b[1;32m      3\u001b[0m \u001b[0;32mfor\u001b[0m \u001b[0mi\u001b[0m \u001b[0;32min\u001b[0m \u001b[0mrange\u001b[0m\u001b[0;34m(\u001b[0m\u001b[0;36m1\u001b[0m\u001b[0;34m,\u001b[0m\u001b[0;36m16\u001b[0m\u001b[0;34m)\u001b[0m\u001b[0;34m:\u001b[0m\u001b[0;34m\u001b[0m\u001b[0;34m\u001b[0m\u001b[0m\n\u001b[1;32m      4\u001b[0m     \u001b[0;32mif\u001b[0m \u001b[0mi\u001b[0m \u001b[0;34m%\u001b[0m \u001b[0;36m3\u001b[0m \u001b[0;34m==\u001b[0m \u001b[0;36m0\u001b[0m\u001b[0;34m:\u001b[0m\u001b[0;34m\u001b[0m\u001b[0;34m\u001b[0m\u001b[0m\n\u001b[1;32m      5\u001b[0m         \u001b[0mset\u001b[0m\u001b[0;34m.\u001b[0m\u001b[0madd\u001b[0m\u001b[0;34m(\u001b[0m\u001b[0mi\u001b[0m\u001b[0;34m)\u001b[0m\u001b[0;34m\u001b[0m\u001b[0;34m\u001b[0m\u001b[0m\n",
            "\u001b[0;31mTypeError\u001b[0m: 'set' object is not callable"
          ]
        }
      ],
      "source": [
        "# write your code here\n",
        "st = set()\n",
        "for i in range(1,16):\n",
        "    if i % 3 == 0:\n",
        "        set.add(i)\n",
        "print(set)"
      ],
      "id": "mgIRy9RvfyVh"
    },
    {
      "cell_type": "markdown",
      "metadata": {
        "id": "SwBOILWZfyVh"
      },
      "source": [
        "### Sets Q7\n",
        "\n",
        "**Problem:** Remove an element from a set using `discard()`.\n",
        "\n",
        "**Expected answer should look like (example):**\n",
        "```\n",
        "set without that element (no error if missing)\n",
        "```"
      ],
      "id": "SwBOILWZfyVh"
    },
    {
      "cell_type": "code",
      "execution_count": null,
      "metadata": {
        "id": "vHtkwEOgfyVh",
        "colab": {
          "base_uri": "https://localhost:8080/"
        },
        "outputId": "5f3e3beb-2ecd-4e45-df3a-58ac82270ffa"
      },
      "outputs": [
        {
          "output_type": "stream",
          "name": "stdout",
          "text": [
            "{1, 2, 4, 5}\n"
          ]
        }
      ],
      "source": [
        "# write your code here\n",
        "set = {1,2,3,4,5}\n",
        "set.discard(3)\n",
        "print(set)"
      ],
      "id": "vHtkwEOgfyVh"
    },
    {
      "cell_type": "markdown",
      "metadata": {
        "id": "0bIs5h7KfyVh"
      },
      "source": [
        "### Sets Q8\n",
        "\n",
        "**Problem:** Check if a set is empty.\n",
        "\n",
        "**Expected answer should look like (example):**\n",
        "```\n",
        "True/False\n",
        "```"
      ],
      "id": "0bIs5h7KfyVh"
    },
    {
      "cell_type": "code",
      "execution_count": null,
      "metadata": {
        "id": "ilBpbKVIfyVh"
      },
      "outputs": [],
      "source": [
        "# write your code here\n",
        "\n"
      ],
      "id": "ilBpbKVIfyVh"
    },
    {
      "cell_type": "markdown",
      "metadata": {
        "id": "Ob4hYWQGfyVh"
      },
      "source": [
        "### Sets Q9\n",
        "\n",
        "**Problem:** Find the maximum element in a set.\n",
        "\n",
        "**Expected answer should look like (example):**\n",
        "```\n",
        "max_value\n",
        "```"
      ],
      "id": "Ob4hYWQGfyVh"
    },
    {
      "cell_type": "code",
      "execution_count": null,
      "metadata": {
        "id": "b4bHmMIyfyVh",
        "colab": {
          "base_uri": "https://localhost:8080/"
        },
        "outputId": "b8144901-48d8-4db1-8ba6-ef380e525e5f"
      },
      "outputs": [
        {
          "output_type": "stream",
          "name": "stdout",
          "text": [
            "5\n"
          ]
        }
      ],
      "source": [
        "# write your code here\n",
        "set = {1,2,3,4,5}\n",
        "print(max(set))"
      ],
      "id": "b4bHmMIyfyVh"
    },
    {
      "cell_type": "markdown",
      "metadata": {
        "id": "RHn1Kk-ufyVh"
      },
      "source": [
        "### Sets Q10\n",
        "\n",
        "**Problem:** Find the minimum element in a set.\n",
        "\n",
        "**Expected answer should look like (example):**\n",
        "```\n",
        "min_value\n",
        "```"
      ],
      "id": "RHn1Kk-ufyVh"
    },
    {
      "cell_type": "code",
      "execution_count": null,
      "metadata": {
        "id": "ePKcbSaafyVh",
        "colab": {
          "base_uri": "https://localhost:8080/"
        },
        "outputId": "4d31d3bc-29c6-43b5-a3a4-fca0d83fa48d"
      },
      "outputs": [
        {
          "output_type": "stream",
          "name": "stdout",
          "text": [
            "1\n"
          ]
        }
      ],
      "source": [
        "# write your code here\n",
        "set = {1,2,3,4,5}\n",
        "print(min(set))"
      ],
      "id": "ePKcbSaafyVh"
    },
    {
      "cell_type": "markdown",
      "metadata": {
        "id": "AzYVe4E2fyVh"
      },
      "source": [
        "### Sets Q11\n",
        "\n",
        "**Problem:** Create a frozen set with elements 'a', 'b', and 'c'.\n",
        "\n",
        "**Expected answer should look like (example):**\n",
        "```\n",
        "frozenset({'a','b','c'})\n",
        "```"
      ],
      "id": "AzYVe4E2fyVh"
    },
    {
      "cell_type": "code",
      "execution_count": null,
      "metadata": {
        "id": "AhMpp5WdfyVh",
        "colab": {
          "base_uri": "https://localhost:8080/"
        },
        "outputId": "731ac9d6-419f-4a48-bfdf-b7ff4b3dd316"
      },
      "outputs": [
        {
          "output_type": "stream",
          "name": "stdout",
          "text": [
            "frozenset({'a', 'b', 'c'})\n"
          ]
        }
      ],
      "source": [
        "# write your code here\n",
        "set = frozenset({'a','b','c'})\n",
        "print(set)"
      ],
      "id": "AhMpp5WdfyVh"
    },
    {
      "cell_type": "markdown",
      "metadata": {
        "id": "b7SIy4MWfyVh"
      },
      "source": [
        "### Sets Q12\n",
        "\n",
        "**Problem:** Check if a frozen set is immutable by attempting to add an element.\n",
        "\n",
        "**Expected answer should look like (example):**\n",
        "```\n",
        "AttributeError shown/handled\n",
        "```"
      ],
      "id": "b7SIy4MWfyVh"
    },
    {
      "cell_type": "code",
      "execution_count": null,
      "metadata": {
        "id": "kaW8KcrnfyVi"
      },
      "outputs": [],
      "source": [
        "# write your code here\n"
      ],
      "id": "kaW8KcrnfyVi"
    },
    {
      "cell_type": "markdown",
      "metadata": {
        "id": "u4PGg21HfyVi"
      },
      "source": [
        "### Sets Q13\n",
        "\n",
        "**Problem:** Find the union of a frozen set with a regular set.\n",
        "\n",
        "**Expected answer should look like (example):**\n",
        "```\n",
        "combined set\n",
        "```"
      ],
      "id": "u4PGg21HfyVi"
    },
    {
      "cell_type": "code",
      "execution_count": null,
      "metadata": {
        "id": "CFjOTXsAfyVi",
        "colab": {
          "base_uri": "https://localhost:8080/"
        },
        "outputId": "a6b6a5ac-96d8-4bf9-e088-ae745b274967"
      },
      "outputs": [
        {
          "output_type": "stream",
          "name": "stdout",
          "text": [
            "frozenset({'a', 'b', 'd', 'e', 'f', 'c'})\n"
          ]
        }
      ],
      "source": [
        "# write your code here\n",
        "set1 = frozenset({'a','b','c'})\n",
        "set2 = {'d','e','f'}\n",
        "print(set1.union(set2))"
      ],
      "id": "CFjOTXsAfyVi"
    },
    {
      "cell_type": "markdown",
      "metadata": {
        "id": "l1AxUrgbfyVi"
      },
      "source": [
        "### Sets Q14\n",
        "\n",
        "**Problem:** Convert a list with duplicate elements into a set to remove duplicates.\n",
        "\n",
        "**Expected answer should look like (example):**\n",
        "```\n",
        "{unique_elements}\n",
        "```"
      ],
      "id": "l1AxUrgbfyVi"
    },
    {
      "cell_type": "code",
      "execution_count": null,
      "metadata": {
        "id": "uGYqDg-EfyVi",
        "colab": {
          "base_uri": "https://localhost:8080/",
          "height": 176
        },
        "outputId": "eb9d1632-a18f-4033-da0f-cd12b2a5bd33"
      },
      "outputs": [
        {
          "output_type": "error",
          "ename": "TypeError",
          "evalue": "'frozenset' object is not callable",
          "traceback": [
            "\u001b[0;31m---------------------------------------------------------------------------\u001b[0m",
            "\u001b[0;31mTypeError\u001b[0m                                 Traceback (most recent call last)",
            "\u001b[0;32m/tmp/ipython-input-1686506365.py\u001b[0m in \u001b[0;36m<cell line: 0>\u001b[0;34m()\u001b[0m\n\u001b[1;32m      1\u001b[0m \u001b[0;31m# write your code here\u001b[0m\u001b[0;34m\u001b[0m\u001b[0;34m\u001b[0m\u001b[0m\n\u001b[1;32m      2\u001b[0m \u001b[0mlst\u001b[0m \u001b[0;34m=\u001b[0m \u001b[0;34m[\u001b[0m\u001b[0;36m1\u001b[0m\u001b[0;34m,\u001b[0m\u001b[0;36m2\u001b[0m\u001b[0;34m,\u001b[0m\u001b[0;36m3\u001b[0m\u001b[0;34m,\u001b[0m\u001b[0;36m4\u001b[0m\u001b[0;34m,\u001b[0m\u001b[0;36m5\u001b[0m\u001b[0;34m,\u001b[0m\u001b[0;36m1\u001b[0m\u001b[0;34m,\u001b[0m\u001b[0;36m2\u001b[0m\u001b[0;34m,\u001b[0m\u001b[0;36m3\u001b[0m\u001b[0;34m,\u001b[0m\u001b[0;36m4\u001b[0m\u001b[0;34m,\u001b[0m\u001b[0;36m5\u001b[0m\u001b[0;34m]\u001b[0m\u001b[0;34m\u001b[0m\u001b[0;34m\u001b[0m\u001b[0m\n\u001b[0;32m----> 3\u001b[0;31m \u001b[0mprint\u001b[0m\u001b[0;34m(\u001b[0m\u001b[0mset\u001b[0m\u001b[0;34m(\u001b[0m\u001b[0mlst\u001b[0m\u001b[0;34m)\u001b[0m\u001b[0;34m)\u001b[0m\u001b[0;34m\u001b[0m\u001b[0;34m\u001b[0m\u001b[0m\n\u001b[0m",
            "\u001b[0;31mTypeError\u001b[0m: 'frozenset' object is not callable"
          ]
        }
      ],
      "source": [
        "# write your code here\n",
        "lst = [1,2,3,4,5,1,2,3,4,5]\n",
        "print(set(lst))"
      ],
      "id": "uGYqDg-EfyVi"
    },
    {
      "cell_type": "markdown",
      "metadata": {
        "id": "LNVwzH2dfyVi"
      },
      "source": [
        "### Sets Q15\n",
        "\n",
        "**Problem:** Create a set comprehension to generate squares of numbers from 1 to 5.\n",
        "\n",
        "**Expected answer should look like (example):**\n",
        "```\n",
        "{1,4,9,16,25}\n",
        "```"
      ],
      "id": "LNVwzH2dfyVi"
    },
    {
      "cell_type": "code",
      "execution_count": null,
      "metadata": {
        "id": "ZL075CBkfyVi",
        "colab": {
          "base_uri": "https://localhost:8080/"
        },
        "outputId": "60f5c7e7-6536-48b6-fef4-49fca308da04"
      },
      "outputs": [
        {
          "output_type": "stream",
          "name": "stdout",
          "text": [
            "{1, 4, 9, 16, 25}\n"
          ]
        }
      ],
      "source": [
        "# write your code here\n",
        "set = {x**2 for x in range(1,6)}\n",
        "print(set)"
      ],
      "id": "ZL075CBkfyVi"
    },
    {
      "cell_type": "markdown",
      "metadata": {
        "id": "D0DqSpwUfyVi"
      },
      "source": [
        "### Sets Q16\n",
        "\n",
        "**Problem:** Use the `intersection()` method on two sets.\n",
        "\n",
        "**Expected answer should look like (example):**\n",
        "```\n",
        "A ∩ B\n",
        "```"
      ],
      "id": "D0DqSpwUfyVi"
    },
    {
      "cell_type": "code",
      "execution_count": null,
      "metadata": {
        "id": "CSbQd9H8fyVi",
        "colab": {
          "base_uri": "https://localhost:8080/"
        },
        "outputId": "576ac88b-862b-4ad7-8739-8af3de8cd6eb"
      },
      "outputs": [
        {
          "output_type": "stream",
          "name": "stdout",
          "text": [
            "{1, 3, 5}\n"
          ]
        }
      ],
      "source": [
        "# write your code here\n",
        "set1 = {1,2,3,4,5}\n",
        "set2 = {1,3,5}\n",
        "print(set1.intersection(set2))"
      ],
      "id": "CSbQd9H8fyVi"
    },
    {
      "cell_type": "markdown",
      "metadata": {
        "id": "q2Zf6kwEfyVi"
      },
      "source": [
        "### Sets Q17\n",
        "\n",
        "**Problem:** Use `symmetric_difference()` between two sets.\n",
        "\n",
        "**Expected answer should look like (example):**\n",
        "```\n",
        "(A Δ B) set\n",
        "```"
      ],
      "id": "q2Zf6kwEfyVi"
    },
    {
      "cell_type": "code",
      "execution_count": null,
      "metadata": {
        "id": "JJOjcx6MfyVi",
        "colab": {
          "base_uri": "https://localhost:8080/"
        },
        "outputId": "3db1a219-95a2-4047-e2fb-ef3c4e6bb4cf"
      },
      "outputs": [
        {
          "output_type": "stream",
          "name": "stdout",
          "text": [
            "{2, 4}\n"
          ]
        }
      ],
      "source": [
        "# write your code here\n",
        "set1 = {1,2,3,4,5}\n",
        "set2 = {1,3,5}\n",
        "print(set1.symmetric_difference(set2))"
      ],
      "id": "JJOjcx6MfyVi"
    },
    {
      "cell_type": "markdown",
      "metadata": {
        "id": "iyPjq03kfyVj"
      },
      "source": [
        "### Sets Q18\n",
        "\n",
        "**Problem:** Iterate over elements of a set using a loop.\n",
        "\n",
        "**Expected answer should look like (example):**\n",
        "```\n",
        "elements printed (order arbitrary)\n",
        "```"
      ],
      "id": "iyPjq03kfyVj"
    },
    {
      "cell_type": "code",
      "execution_count": null,
      "metadata": {
        "id": "kchujqXKfyVj",
        "colab": {
          "base_uri": "https://localhost:8080/"
        },
        "outputId": "7bcd761c-76ad-4554-a8c6-d32b905be8c9"
      },
      "outputs": [
        {
          "output_type": "stream",
          "name": "stdout",
          "text": [
            "1\n",
            "2\n",
            "3\n",
            "4\n",
            "5\n"
          ]
        }
      ],
      "source": [
        "# write your code here\n",
        "set = {1,2,3,4,5}\n",
        "for item in set:\n",
        "    print(item)"
      ],
      "id": "kchujqXKfyVj"
    },
    {
      "cell_type": "markdown",
      "metadata": {
        "id": "hxzkafUefyVj"
      },
      "source": [
        "### Sets Q19\n",
        "\n",
        "**Problem:** Count elements in a set using `len()`.\n",
        "\n",
        "**Expected answer should look like (example):**\n",
        "```\n",
        "integer_count\n",
        "```"
      ],
      "id": "hxzkafUefyVj"
    },
    {
      "cell_type": "code",
      "execution_count": null,
      "metadata": {
        "id": "M5lUlSKUfyVj",
        "colab": {
          "base_uri": "https://localhost:8080/"
        },
        "outputId": "6d272692-d631-4da0-a7c4-8e60f5d2c752"
      },
      "outputs": [
        {
          "output_type": "stream",
          "name": "stdout",
          "text": [
            "5\n"
          ]
        }
      ],
      "source": [
        "# write your code here\n",
        "set = {1,2,3,4,5}\n",
        "print(len(set))"
      ],
      "id": "M5lUlSKUfyVj"
    },
    {
      "cell_type": "markdown",
      "metadata": {
        "id": "60brTOPlfyVj"
      },
      "source": [
        "### Sets Q20\n",
        "\n",
        "**Problem:** Copy a set using `copy()` and verify it is separate.\n",
        "\n",
        "**Expected answer should look like (example):**\n",
        "```\n",
        "True when A is B is False; mutation doesn't affect copy\n",
        "```"
      ],
      "id": "60brTOPlfyVj"
    },
    {
      "cell_type": "code",
      "execution_count": null,
      "metadata": {
        "id": "_9s80IdsfyVj",
        "colab": {
          "base_uri": "https://localhost:8080/"
        },
        "outputId": "714fc60d-fb6f-4a73-822a-e060e7b66a96"
      },
      "outputs": [
        {
          "output_type": "stream",
          "name": "stdout",
          "text": [
            "False\n"
          ]
        }
      ],
      "source": [
        "# write your code here\n",
        "set1 = {1,2,3,4,5}\n",
        "set2 = set1.copy()\n",
        "print(set1 is set2)"
      ],
      "id": "_9s80IdsfyVj"
    },
    {
      "cell_type": "markdown",
      "metadata": {
        "id": "SpYizfRbfyVl"
      },
      "source": [
        "## Submission Note\n",
        "\n",
        "Dear student, kindly save this file on your computer and fill the assignment form that is there in your WhatsApp group to submit this assignment."
      ],
      "id": "SpYizfRbfyVl"
    }
  ],
  "metadata": {
    "kernelspec": {
      "display_name": "Python 3",
      "language": "python",
      "name": "python3"
    },
    "language_info": {
      "codemirror_mode": {
        "name": "ipython",
        "version": 3
      },
      "file_extension": ".py",
      "mimetype": "text/x-python",
      "name": "python",
      "nbconvert_exporter": "python",
      "pygments_lexer": "ipython3",
      "version": "3.11.8"
    },
    "colab": {
      "provenance": [],
      "include_colab_link": true
    }
  },
  "nbformat": 4,
  "nbformat_minor": 5
}