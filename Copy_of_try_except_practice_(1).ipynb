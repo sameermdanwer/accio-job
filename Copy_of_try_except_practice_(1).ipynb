{
  "cells": [
    {
      "cell_type": "markdown",
      "metadata": {
        "id": "view-in-github",
        "colab_type": "text"
      },
      "source": [
        "<a href=\"https://colab.research.google.com/github/sameermdanwer/accio-job/blob/main/Copy_of_try_except_practice_(1).ipynb\" target=\"_parent\"><img src=\"https://colab.research.google.com/assets/colab-badge.svg\" alt=\"Open In Colab\"/></a>"
      ]
    },
    {
      "cell_type": "markdown",
      "id": "e39c905f",
      "metadata": {
        "id": "e39c905f"
      },
      "source": [
        "##  Practice Notebook: Try-Except in Python\n",
        "Learn and practice Python exception handling with 5 simple exercises."
      ]
    },
    {
      "cell_type": "markdown",
      "id": "d49384cc",
      "metadata": {
        "id": "d49384cc"
      },
      "source": [
        "\n",
        "###  Quick Recap\n",
        "In Python, we use `try` and `except` to handle errors gracefully.\n",
        "\n",
        "```python\n",
        "try:\n",
        "    # Code that might raise an error\n",
        "    x = int(input(\"Enter a number: \"))\n",
        "    print(10 / x)\n",
        "except ZeroDivisionError:\n",
        "    print(\"You cannot divide by zero!\")\n",
        "except ValueError:\n",
        "    print(\"Invalid input! Please enter a number.\")\n",
        "```\n",
        "\n",
        "Now let's practice 👇\n"
      ]
    },
    {
      "cell_type": "markdown",
      "id": "863cc91a",
      "metadata": {
        "id": "863cc91a"
      },
      "source": [
        "##  Question 1: Basic Exception\n",
        "Write a program that takes two numbers as input and divides them. Handle any error that might occur (like division by zero or invalid input)."
      ]
    },
    {
      "cell_type": "code",
      "execution_count": null,
      "id": "79a9bc3f",
      "metadata": {
        "id": "79a9bc3f",
        "outputId": "98bb2cb5-7ee7-45f7-d31b-ebef5baf2817",
        "colab": {
          "base_uri": "https://localhost:8080/"
        }
      },
      "outputs": [
        {
          "output_type": "stream",
          "name": "stdout",
          "text": [
            "Enter a number: 10\n",
            "Enter a number: 0\n",
            "You cannot divide by zero!\n"
          ]
        }
      ],
      "source": [
        "# Your code here\n",
        "try:\n",
        "  a=float(input(\"Enter a number: \"))\n",
        "  b=float(input(\"Enter a number: \"))\n",
        "  print(a/b)\n",
        "except ZeroDivisionError:\n",
        "  print(\"You cannot divide by zero!\")\n",
        "except ValueError:\n",
        "  print(\"Invalid input! Please enter a number.\")\n"
      ]
    },
    {
      "cell_type": "markdown",
      "id": "1ddedeb3",
      "metadata": {
        "id": "1ddedeb3"
      },
      "source": [
        "##  Question 2: Specific Exceptions\n",
        "Ask the user for a number. Convert it to an integer and print its square. Handle both `ValueError` and any unexpected error."
      ]
    },
    {
      "cell_type": "code",
      "execution_count": null,
      "id": "d9f2dc3b",
      "metadata": {
        "id": "d9f2dc3b",
        "outputId": "616dc216-3127-4b94-a454-3c433f2ebd77",
        "colab": {
          "base_uri": "https://localhost:8080/"
        }
      },
      "outputs": [
        {
          "output_type": "stream",
          "name": "stdout",
          "text": [
            "Enter a number: 2\n",
            "4\n"
          ]
        }
      ],
      "source": [
        "# Your code here\n",
        "try:\n",
        "  a=int(input(\"Enter a number: \"))\n",
        "  print(a**2)\n",
        "except ValueError:\n",
        "  print(\"Invalid input! Please enter a number.\")\n",
        "except:\n",
        "  print(\"Unexpected error!\")\n"
      ]
    },
    {
      "cell_type": "markdown",
      "id": "d4c451d5",
      "metadata": {
        "id": "d4c451d5"
      },
      "source": [
        "##  Question 3: Using else and finally\n",
        "Write a program that tries to open a file named `data.txt`. If it doesn’t exist, handle the error.\n",
        "- Use `else` to print the file contents if no error\n",
        "- Use `finally` to print 'Task Complete'"
      ]
    },
    {
      "cell_type": "code",
      "execution_count": null,
      "id": "dd4fea6f",
      "metadata": {
        "id": "dd4fea6f",
        "outputId": "d0326e96-40d7-4cc4-e379-5dca2835e5bd",
        "colab": {
          "base_uri": "https://localhost:8080/"
        }
      },
      "outputs": [
        {
          "output_type": "stream",
          "name": "stdout",
          "text": [
            "File not found!\n",
            "Task Complete\n"
          ]
        }
      ],
      "source": [
        "# Your code here\n",
        "try:\n",
        "  f=open(\"data.txt\",\"r\")\n",
        "except FileNotFoundError:\n",
        "  print(\"File not found!\")\n",
        "else:\n",
        "  print(f.read())\n",
        "finally:\n",
        "  print(\"Task Complete\")\n"
      ]
    },
    {
      "cell_type": "markdown",
      "id": "99f10a31",
      "metadata": {
        "id": "99f10a31"
      },
      "source": [
        "##  Question 4: Catching Multiple Exceptions\n",
        "Take an integer input and divide 100 by that number. Handle:\n",
        "- `ZeroDivisionError`\n",
        "- `ValueError`\n",
        "- `TypeError`\n",
        "Print a message for each specific error."
      ]
    },
    {
      "cell_type": "code",
      "execution_count": null,
      "id": "b1429cea",
      "metadata": {
        "id": "b1429cea",
        "outputId": "7dbecb36-c83f-41b7-da39-9c49b93ab58b",
        "colab": {
          "base_uri": "https://localhost:8080/"
        }
      },
      "outputs": [
        {
          "output_type": "stream",
          "name": "stdout",
          "text": [
            "Enter a number: 5\n",
            "20.0\n"
          ]
        }
      ],
      "source": [
        "# Your code here\n",
        "try:\n",
        "  a=int(input(\"Enter a number: \"))\n",
        "  print(100/a)\n",
        "except ZeroDivisionError:\n",
        "  print(\"You cannot divide by zero!\")\n",
        "except ValueError:\n",
        "  print(\"Invalid input! Please enter a number.\")\n"
      ]
    },
    {
      "cell_type": "markdown",
      "id": "98e88e57",
      "metadata": {
        "id": "98e88e57"
      },
      "source": [
        "##  Question 5: Create Your Own Exception\n",
        "Define a custom exception `TooSmallError` which is raised when a user enters a number less than 10."
      ]
    },
    {
      "cell_type": "code",
      "execution_count": null,
      "id": "81414e30",
      "metadata": {
        "id": "81414e30",
        "outputId": "8d33ba19-6220-471b-8fb9-07918caa2275",
        "colab": {
          "base_uri": "https://localhost:8080/",
          "height": 349
        }
      },
      "outputs": [
        {
          "name": "stdout",
          "output_type": "stream",
          "text": [
            "Enter a number: 5\n"
          ]
        },
        {
          "output_type": "error",
          "ename": "TypeError",
          "evalue": "TooSmallError.__init__() missing 1 required positional argument: 'message'",
          "traceback": [
            "\u001b[0;31m---------------------------------------------------------------------------\u001b[0m",
            "\u001b[0;31mTypeError\u001b[0m                                 Traceback (most recent call last)",
            "\u001b[0;32m/tmp/ipython-input-405636289.py\u001b[0m in \u001b[0;36m<cell line: 0>\u001b[0;34m()\u001b[0m\n\u001b[1;32m      1\u001b[0m \u001b[0;31m# Your code here\u001b[0m\u001b[0;34m\u001b[0m\u001b[0;34m\u001b[0m\u001b[0m\n\u001b[0;32m----> 2\u001b[0;31m \u001b[0;32mclass\u001b[0m \u001b[0mTooSmallError\u001b[0m\u001b[0;34m(\u001b[0m\u001b[0mException\u001b[0m\u001b[0;34m)\u001b[0m\u001b[0;34m:\u001b[0m\u001b[0;34m\u001b[0m\u001b[0;34m\u001b[0m\u001b[0m\n\u001b[0m\u001b[1;32m      3\u001b[0m   \u001b[0;32mpass\u001b[0m\u001b[0;34m\u001b[0m\u001b[0;34m\u001b[0m\u001b[0m\n\u001b[1;32m      4\u001b[0m   \u001b[0;32mtry\u001b[0m\u001b[0;34m:\u001b[0m\u001b[0;34m\u001b[0m\u001b[0;34m\u001b[0m\u001b[0m\n\u001b[1;32m      5\u001b[0m     \u001b[0ma\u001b[0m\u001b[0;34m=\u001b[0m\u001b[0mint\u001b[0m\u001b[0;34m(\u001b[0m\u001b[0minput\u001b[0m\u001b[0;34m(\u001b[0m\u001b[0;34m\"Enter a number: \"\u001b[0m\u001b[0;34m)\u001b[0m\u001b[0;34m)\u001b[0m\u001b[0;34m\u001b[0m\u001b[0;34m\u001b[0m\u001b[0m\n",
            "\u001b[0;32m/tmp/ipython-input-405636289.py\u001b[0m in \u001b[0;36mTooSmallError\u001b[0;34m()\u001b[0m\n\u001b[1;32m      5\u001b[0m     \u001b[0ma\u001b[0m\u001b[0;34m=\u001b[0m\u001b[0mint\u001b[0m\u001b[0;34m(\u001b[0m\u001b[0minput\u001b[0m\u001b[0;34m(\u001b[0m\u001b[0;34m\"Enter a number: \"\u001b[0m\u001b[0;34m)\u001b[0m\u001b[0;34m)\u001b[0m\u001b[0;34m\u001b[0m\u001b[0;34m\u001b[0m\u001b[0m\n\u001b[1;32m      6\u001b[0m     \u001b[0;32mif\u001b[0m \u001b[0ma\u001b[0m\u001b[0;34m<\u001b[0m\u001b[0;36m10\u001b[0m\u001b[0;34m:\u001b[0m\u001b[0;34m\u001b[0m\u001b[0;34m\u001b[0m\u001b[0m\n\u001b[0;32m----> 7\u001b[0;31m       \u001b[0;32mraise\u001b[0m \u001b[0mTooSmallError\u001b[0m\u001b[0;34m\u001b[0m\u001b[0;34m\u001b[0m\u001b[0m\n\u001b[0m\u001b[1;32m      8\u001b[0m   \u001b[0;32mexcept\u001b[0m \u001b[0mTooSmallError\u001b[0m\u001b[0;34m:\u001b[0m\u001b[0;34m\u001b[0m\u001b[0;34m\u001b[0m\u001b[0m\n\u001b[1;32m      9\u001b[0m     \u001b[0mprint\u001b[0m\u001b[0;34m(\u001b[0m\u001b[0;34m\"Number is too small!\"\u001b[0m\u001b[0;34m)\u001b[0m\u001b[0;34m\u001b[0m\u001b[0;34m\u001b[0m\u001b[0m\n",
            "\u001b[0;31mTypeError\u001b[0m: TooSmallError.__init__() missing 1 required positional argument: 'message'"
          ]
        }
      ],
      "source": [
        "# Your code here\n",
        "class TooSmallError(Exception):\n",
        "  pass\n",
        "  try:\n",
        "    a=int(input(\"Enter a number: \"))\n",
        "    if a<10:\n",
        "      raise TooSmallError\n",
        "  except TooSmallError:\n",
        "    print(\"Number is too small!\")"
      ]
    }
  ],
  "metadata": {
    "colab": {
      "provenance": [],
      "toc_visible": true,
      "include_colab_link": true
    },
    "language_info": {
      "name": "python"
    },
    "kernelspec": {
      "name": "python3",
      "display_name": "Python 3"
    }
  },
  "nbformat": 4,
  "nbformat_minor": 5
}